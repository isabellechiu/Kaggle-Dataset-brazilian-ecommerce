{
 "cells": [
  {
   "cell_type": "code",
   "execution_count": 1,
   "id": "f3f5abfc",
   "metadata": {
    "_cell_guid": "b1076dfc-b9ad-4769-8c92-a6c4dae69d19",
    "_uuid": "8f2839f25d086af736a60e9eeb907d3b93b6e0e5",
    "execution": {
     "iopub.execute_input": "2022-06-07T19:52:47.505296Z",
     "iopub.status.busy": "2022-06-07T19:52:47.504395Z",
     "iopub.status.idle": "2022-06-07T19:52:48.624225Z",
     "shell.execute_reply": "2022-06-07T19:52:48.622983Z"
    },
    "papermill": {
     "duration": 1.145696,
     "end_time": "2022-06-07T19:52:48.628004",
     "exception": false,
     "start_time": "2022-06-07T19:52:47.482308",
     "status": "completed"
    },
    "tags": []
   },
   "outputs": [
    {
     "name": "stdout",
     "output_type": "stream",
     "text": [
      "/kaggle/input/brazilian-ecommerce/olist_customers_dataset.csv\n",
      "/kaggle/input/brazilian-ecommerce/olist_sellers_dataset.csv\n",
      "/kaggle/input/brazilian-ecommerce/olist_order_reviews_dataset.csv\n",
      "/kaggle/input/brazilian-ecommerce/olist_order_items_dataset.csv\n",
      "/kaggle/input/brazilian-ecommerce/olist_products_dataset.csv\n",
      "/kaggle/input/brazilian-ecommerce/olist_geolocation_dataset.csv\n",
      "/kaggle/input/brazilian-ecommerce/product_category_name_translation.csv\n",
      "/kaggle/input/brazilian-ecommerce/olist_orders_dataset.csv\n",
      "/kaggle/input/brazilian-ecommerce/olist_order_payments_dataset.csv\n"
     ]
    }
   ],
   "source": [
    "# This Python 3 environment comes with many helpful analytics libraries installed\n",
    "# It is defined by the kaggle/python Docker image: https://github.com/kaggle/docker-python\n",
    "# For example, here's several helpful packages to load\n",
    "\n",
    "import numpy as np # linear algebra\n",
    "import pandas as pd # data processing, CSV file I/O (e.g. pd.read_csv)\n",
    "from matplotlib import pyplot as plt\n",
    "import seaborn as sns\n",
    "# Input data files are available in the read-only \"../input/\" directory\n",
    "# For example, running this (by clicking run or pressing Shift+Enter) will list all files under the input directory\n",
    "\n",
    "import os\n",
    "for dirname, _, filenames in os.walk('/kaggle/input'):\n",
    "    for filename in filenames:\n",
    "        print(os.path.join(dirname, filename))\n",
    "\n",
    "# You can write up to 20GB to the current directory (/kaggle/working/) that gets preserved as output when you create a version using \"Save & Run All\" \n",
    "# You can also write temporary files to /kaggle/temp/, but they won't be saved outside of the current session"
   ]
  },
  {
   "cell_type": "markdown",
   "id": "0c2e0f93",
   "metadata": {
    "papermill": {
     "duration": 0.011913,
     "end_time": "2022-06-07T19:52:48.652735",
     "exception": false,
     "start_time": "2022-06-07T19:52:48.640822",
     "status": "completed"
    },
    "tags": []
   },
   "source": [
    "https://www.interviewqs.com/blog/case-study-example-1\n",
    "https://github.com/erood/interviewqs.com_code_snippets/blob/master/Case_1/interviewqs_case_1.ipynb\n",
    "\n",
    "\n",
    "case study example"
   ]
  },
  {
   "cell_type": "code",
   "execution_count": 2,
   "id": "a2a2f662",
   "metadata": {
    "execution": {
     "iopub.execute_input": "2022-06-07T19:52:48.678428Z",
     "iopub.status.busy": "2022-06-07T19:52:48.678045Z",
     "iopub.status.idle": "2022-06-07T19:52:53.071073Z",
     "shell.execute_reply": "2022-06-07T19:52:53.069940Z"
    },
    "papermill": {
     "duration": 4.409008,
     "end_time": "2022-06-07T19:52:53.073597",
     "exception": false,
     "start_time": "2022-06-07T19:52:48.664589",
     "status": "completed"
    },
    "tags": []
   },
   "outputs": [],
   "source": [
    "customer_df=pd.read_csv('/kaggle/input/brazilian-ecommerce/olist_customers_dataset.csv')\n",
    "seller_df=pd.read_csv('/kaggle/input/brazilian-ecommerce/olist_sellers_dataset.csv')\n",
    "order_review=pd.read_csv('/kaggle/input/brazilian-ecommerce/olist_order_reviews_dataset.csv')\n",
    "order_item=pd.read_csv('/kaggle/input/brazilian-ecommerce/olist_order_items_dataset.csv')\n",
    "product_df=pd.read_csv('/kaggle/input/brazilian-ecommerce/olist_products_dataset.csv')\n",
    "geo_df=pd.read_csv('/kaggle/input/brazilian-ecommerce/olist_geolocation_dataset.csv')\n",
    "cat_translated=pd.read_csv('/kaggle/input/brazilian-ecommerce/product_category_name_translation.csv')\n",
    "order_df=pd.read_csv('/kaggle/input/brazilian-ecommerce/olist_orders_dataset.csv')\n",
    "payment_df=pd.read_csv('/kaggle/input/brazilian-ecommerce/olist_order_payments_dataset.csv')"
   ]
  },
  {
   "cell_type": "code",
   "execution_count": 3,
   "id": "554d2ba8",
   "metadata": {
    "execution": {
     "iopub.execute_input": "2022-06-07T19:52:53.098735Z",
     "iopub.status.busy": "2022-06-07T19:52:53.098354Z",
     "iopub.status.idle": "2022-06-07T19:52:53.277162Z",
     "shell.execute_reply": "2022-06-07T19:52:53.276201Z"
    },
    "papermill": {
     "duration": 0.194008,
     "end_time": "2022-06-07T19:52:53.279442",
     "exception": false,
     "start_time": "2022-06-07T19:52:53.085434",
     "status": "completed"
    },
    "tags": []
   },
   "outputs": [
    {
     "data": {
      "text/html": [
       "<div>\n",
       "<style scoped>\n",
       "    .dataframe tbody tr th:only-of-type {\n",
       "        vertical-align: middle;\n",
       "    }\n",
       "\n",
       "    .dataframe tbody tr th {\n",
       "        vertical-align: top;\n",
       "    }\n",
       "\n",
       "    .dataframe thead th {\n",
       "        text-align: right;\n",
       "    }\n",
       "</style>\n",
       "<table border=\"1\" class=\"dataframe\">\n",
       "  <thead>\n",
       "    <tr style=\"text-align: right;\">\n",
       "      <th></th>\n",
       "      <th>order_id</th>\n",
       "      <th>customer_id</th>\n",
       "      <th>order_status</th>\n",
       "      <th>order_purchase_timestamp</th>\n",
       "      <th>order_approved_at</th>\n",
       "      <th>order_delivered_carrier_date</th>\n",
       "      <th>order_delivered_customer_date</th>\n",
       "      <th>order_estimated_delivery_date</th>\n",
       "      <th>customer_unique_id</th>\n",
       "      <th>customer_zip_code_prefix</th>\n",
       "      <th>customer_city</th>\n",
       "      <th>customer_state</th>\n",
       "    </tr>\n",
       "  </thead>\n",
       "  <tbody>\n",
       "    <tr>\n",
       "      <th>0</th>\n",
       "      <td>e481f51cbdc54678b7cc49136f2d6af7</td>\n",
       "      <td>9ef432eb6251297304e76186b10a928d</td>\n",
       "      <td>delivered</td>\n",
       "      <td>2017-10-02 10:56:33</td>\n",
       "      <td>2017-10-02 11:07:15</td>\n",
       "      <td>2017-10-04 19:55:00</td>\n",
       "      <td>2017-10-10 21:25:13</td>\n",
       "      <td>2017-10-18 00:00:00</td>\n",
       "      <td>7c396fd4830fd04220f754e42b4e5bff</td>\n",
       "      <td>3149</td>\n",
       "      <td>sao paulo</td>\n",
       "      <td>SP</td>\n",
       "    </tr>\n",
       "    <tr>\n",
       "      <th>1</th>\n",
       "      <td>53cdb2fc8bc7dce0b6741e2150273451</td>\n",
       "      <td>b0830fb4747a6c6d20dea0b8c802d7ef</td>\n",
       "      <td>delivered</td>\n",
       "      <td>2018-07-24 20:41:37</td>\n",
       "      <td>2018-07-26 03:24:27</td>\n",
       "      <td>2018-07-26 14:31:00</td>\n",
       "      <td>2018-08-07 15:27:45</td>\n",
       "      <td>2018-08-13 00:00:00</td>\n",
       "      <td>af07308b275d755c9edb36a90c618231</td>\n",
       "      <td>47813</td>\n",
       "      <td>barreiras</td>\n",
       "      <td>BA</td>\n",
       "    </tr>\n",
       "    <tr>\n",
       "      <th>2</th>\n",
       "      <td>47770eb9100c2d0c44946d9cf07ec65d</td>\n",
       "      <td>41ce2a54c0b03bf3443c3d931a367089</td>\n",
       "      <td>delivered</td>\n",
       "      <td>2018-08-08 08:38:49</td>\n",
       "      <td>2018-08-08 08:55:23</td>\n",
       "      <td>2018-08-08 13:50:00</td>\n",
       "      <td>2018-08-17 18:06:29</td>\n",
       "      <td>2018-09-04 00:00:00</td>\n",
       "      <td>3a653a41f6f9fc3d2a113cf8398680e8</td>\n",
       "      <td>75265</td>\n",
       "      <td>vianopolis</td>\n",
       "      <td>GO</td>\n",
       "    </tr>\n",
       "    <tr>\n",
       "      <th>3</th>\n",
       "      <td>949d5b44dbf5de918fe9c16f97b45f8a</td>\n",
       "      <td>f88197465ea7920adcdbec7375364d82</td>\n",
       "      <td>delivered</td>\n",
       "      <td>2017-11-18 19:28:06</td>\n",
       "      <td>2017-11-18 19:45:59</td>\n",
       "      <td>2017-11-22 13:39:59</td>\n",
       "      <td>2017-12-02 00:28:42</td>\n",
       "      <td>2017-12-15 00:00:00</td>\n",
       "      <td>7c142cf63193a1473d2e66489a9ae977</td>\n",
       "      <td>59296</td>\n",
       "      <td>sao goncalo do amarante</td>\n",
       "      <td>RN</td>\n",
       "    </tr>\n",
       "    <tr>\n",
       "      <th>4</th>\n",
       "      <td>ad21c59c0840e6cb83a9ceb5573f8159</td>\n",
       "      <td>8ab97904e6daea8866dbdbc4fb7aad2c</td>\n",
       "      <td>delivered</td>\n",
       "      <td>2018-02-13 21:18:39</td>\n",
       "      <td>2018-02-13 22:20:29</td>\n",
       "      <td>2018-02-14 19:46:34</td>\n",
       "      <td>2018-02-16 18:17:02</td>\n",
       "      <td>2018-02-26 00:00:00</td>\n",
       "      <td>72632f0f9dd73dfee390c9b22eb56dd6</td>\n",
       "      <td>9195</td>\n",
       "      <td>santo andre</td>\n",
       "      <td>SP</td>\n",
       "    </tr>\n",
       "  </tbody>\n",
       "</table>\n",
       "</div>"
      ],
      "text/plain": [
       "                           order_id                       customer_id  \\\n",
       "0  e481f51cbdc54678b7cc49136f2d6af7  9ef432eb6251297304e76186b10a928d   \n",
       "1  53cdb2fc8bc7dce0b6741e2150273451  b0830fb4747a6c6d20dea0b8c802d7ef   \n",
       "2  47770eb9100c2d0c44946d9cf07ec65d  41ce2a54c0b03bf3443c3d931a367089   \n",
       "3  949d5b44dbf5de918fe9c16f97b45f8a  f88197465ea7920adcdbec7375364d82   \n",
       "4  ad21c59c0840e6cb83a9ceb5573f8159  8ab97904e6daea8866dbdbc4fb7aad2c   \n",
       "\n",
       "  order_status order_purchase_timestamp    order_approved_at  \\\n",
       "0    delivered      2017-10-02 10:56:33  2017-10-02 11:07:15   \n",
       "1    delivered      2018-07-24 20:41:37  2018-07-26 03:24:27   \n",
       "2    delivered      2018-08-08 08:38:49  2018-08-08 08:55:23   \n",
       "3    delivered      2017-11-18 19:28:06  2017-11-18 19:45:59   \n",
       "4    delivered      2018-02-13 21:18:39  2018-02-13 22:20:29   \n",
       "\n",
       "  order_delivered_carrier_date order_delivered_customer_date  \\\n",
       "0          2017-10-04 19:55:00           2017-10-10 21:25:13   \n",
       "1          2018-07-26 14:31:00           2018-08-07 15:27:45   \n",
       "2          2018-08-08 13:50:00           2018-08-17 18:06:29   \n",
       "3          2017-11-22 13:39:59           2017-12-02 00:28:42   \n",
       "4          2018-02-14 19:46:34           2018-02-16 18:17:02   \n",
       "\n",
       "  order_estimated_delivery_date                customer_unique_id  \\\n",
       "0           2017-10-18 00:00:00  7c396fd4830fd04220f754e42b4e5bff   \n",
       "1           2018-08-13 00:00:00  af07308b275d755c9edb36a90c618231   \n",
       "2           2018-09-04 00:00:00  3a653a41f6f9fc3d2a113cf8398680e8   \n",
       "3           2017-12-15 00:00:00  7c142cf63193a1473d2e66489a9ae977   \n",
       "4           2018-02-26 00:00:00  72632f0f9dd73dfee390c9b22eb56dd6   \n",
       "\n",
       "   customer_zip_code_prefix            customer_city customer_state  \n",
       "0                      3149                sao paulo             SP  \n",
       "1                     47813                barreiras             BA  \n",
       "2                     75265               vianopolis             GO  \n",
       "3                     59296  sao goncalo do amarante             RN  \n",
       "4                      9195              santo andre             SP  "
      ]
     },
     "execution_count": 3,
     "metadata": {},
     "output_type": "execute_result"
    }
   ],
   "source": [
    "cust_order_df=order_df.merge(customer_df, how='left', on='customer_id')\n",
    "cust_order_df.head()"
   ]
  },
  {
   "cell_type": "markdown",
   "id": "99733187",
   "metadata": {
    "papermill": {
     "duration": 0.011876,
     "end_time": "2022-06-07T19:52:53.303262",
     "exception": false,
     "start_time": "2022-06-07T19:52:53.291386",
     "status": "completed"
    },
    "tags": []
   },
   "source": [
    "# EDA"
   ]
  },
  {
   "cell_type": "code",
   "execution_count": 4,
   "id": "68cb0454",
   "metadata": {
    "execution": {
     "iopub.execute_input": "2022-06-07T19:52:53.328838Z",
     "iopub.status.busy": "2022-06-07T19:52:53.328426Z",
     "iopub.status.idle": "2022-06-07T19:52:53.926452Z",
     "shell.execute_reply": "2022-06-07T19:52:53.925373Z"
    },
    "papermill": {
     "duration": 0.6134,
     "end_time": "2022-06-07T19:52:53.928836",
     "exception": false,
     "start_time": "2022-06-07T19:52:53.315436",
     "status": "completed"
    },
    "tags": []
   },
   "outputs": [
    {
     "name": "stdout",
     "output_type": "stream",
     "text": [
      "99441\n",
      "99441\n",
      "96096\n",
      "order_status\n",
      "approved           2\n",
      "canceled         625\n",
      "created            5\n",
      "delivered      96478\n",
      "invoiced         314\n",
      "processing       301\n",
      "shipped         1107\n",
      "unavailable      609\n",
      "dtype: int64\n"
     ]
    },
    {
     "data": {
      "text/plain": [
       "Text(0, 0.5, 'No. of Customers')"
      ]
     },
     "execution_count": 4,
     "metadata": {},
     "output_type": "execute_result"
    },
    {
     "data": {
      "image/png": "[encoded data removed]",
      "text/plain": [
       "<Figure size 1080x576 with 1 Axes>"
      ]
     },
     "metadata": {
      "needs_background": "light"
     },
     "output_type": "display_data"
    }
   ],
   "source": [
    "print(order_df['order_id'].nunique())\n",
    "print(len(order_df['customer_id'].unique()))\n",
    "print(customer_df['customer_unique_id'].nunique())\n",
    "\n",
    "print(order_df.groupby(['order_status']).size())\n",
    "\n",
    "# plotting state wise customer distribution\n",
    "plt.figure(figsize=(15,8))\n",
    "sns.countplot(x='customer_state', data=customer_df)\n",
    "plt.title('State Wise Customer Distribution')\n",
    "plt.xlabel('State')\n",
    "plt.ylabel('No. of Customers')"
   ]
  },
  {
   "cell_type": "code",
   "execution_count": 5,
   "id": "0588d2fe",
   "metadata": {
    "execution": {
     "iopub.execute_input": "2022-06-07T19:52:53.956727Z",
     "iopub.status.busy": "2022-06-07T19:52:53.955697Z",
     "iopub.status.idle": "2022-06-07T19:52:54.179818Z",
     "shell.execute_reply": "2022-06-07T19:52:54.178886Z"
    },
    "papermill": {
     "duration": 0.240079,
     "end_time": "2022-06-07T19:52:54.181769",
     "exception": false,
     "start_time": "2022-06-07T19:52:53.941690",
     "status": "completed"
    },
    "tags": []
   },
   "outputs": [
    {
     "data": {
      "text/plain": [
       "geolocation_zip_code_prefix    0\n",
       "geolocation_lat                0\n",
       "geolocation_lng                0\n",
       "geolocation_city               0\n",
       "geolocation_state              0\n",
       "dtype: int64"
      ]
     },
     "execution_count": 5,
     "metadata": {},
     "output_type": "execute_result"
    }
   ],
   "source": [
    "# checking for missing values\n",
    "geo_df.isnull().sum()"
   ]
  },
  {
   "cell_type": "code",
   "execution_count": 6,
   "id": "e6dbb1ed",
   "metadata": {
    "execution": {
     "iopub.execute_input": "2022-06-07T19:52:54.209622Z",
     "iopub.status.busy": "2022-06-07T19:52:54.209249Z",
     "iopub.status.idle": "2022-06-07T19:53:44.205791Z",
     "shell.execute_reply": "2022-06-07T19:53:44.205019Z"
    },
    "papermill": {
     "duration": 50.013361,
     "end_time": "2022-06-07T19:53:44.208270",
     "exception": false,
     "start_time": "2022-06-07T19:52:54.194909",
     "status": "completed"
    },
    "tags": []
   },
   "outputs": [
    {
     "name": "stderr",
     "output_type": "stream",
     "text": [
      "/opt/conda/lib/python3.7/site-packages/geopandas/_compat.py:115: UserWarning: The Shapely GEOS version (3.9.1-CAPI-1.14.2) is incompatible with the GEOS version PyGEOS was compiled with (3.10.1-CAPI-1.16.0). Conversions between both will be slow.\n",
      "  shapely_geos_version, geos_capi_version_string\n"
     ]
    }
   ],
   "source": [
    "from shapely.geometry import Point\n",
    "import geopandas as gpd\n",
    "from geopandas import GeoDataFrame\n",
    "\n",
    "geometry = [Point(xy) for xy in zip(geo_df['geolocation_lng'], geo_df['geolocation_lat'])]\n",
    "gdf = GeoDataFrame(geo_df, geometry=geometry)   \n",
    "\n",
    "world = gpd.read_file(gpd.datasets.get_path('naturalearth_lowres'))\n"
   ]
  },
  {
   "cell_type": "code",
   "execution_count": 7,
   "id": "dd206c33",
   "metadata": {
    "execution": {
     "iopub.execute_input": "2022-06-07T19:53:44.236509Z",
     "iopub.status.busy": "2022-06-07T19:53:44.235631Z",
     "iopub.status.idle": "2022-06-07T19:56:39.455647Z",
     "shell.execute_reply": "2022-06-07T19:56:39.454695Z"
    },
    "papermill": {
     "duration": 175.236258,
     "end_time": "2022-06-07T19:56:39.457940",
     "exception": false,
     "start_time": "2022-06-07T19:53:44.221682",
     "status": "completed"
    },
    "tags": []
   },
   "outputs": [
    {
     "data": {
      "text/plain": [
       "<AxesSubplot:>"
      ]
     },
     "execution_count": 7,
     "metadata": {},
     "output_type": "execute_result"
    },
    {
     "data": {
      "image/png": "[encoded data removed]",
      "text/plain": [
       "<Figure size 720x432 with 1 Axes>"
      ]
     },
     "metadata": {
      "needs_background": "light"
     },
     "output_type": "display_data"
    }
   ],
   "source": [
    "gdf.plot(ax=world.plot(figsize=(10, 6)), marker='o', color='red', markersize=15)\n",
    "# world.plot(figsize=(10, 6))"
   ]
  },
  {
   "cell_type": "code",
   "execution_count": 8,
   "id": "18d9b40d",
   "metadata": {
    "execution": {
     "iopub.execute_input": "2022-06-07T19:56:39.487022Z",
     "iopub.status.busy": "2022-06-07T19:56:39.486569Z",
     "iopub.status.idle": "2022-06-07T19:56:39.518257Z",
     "shell.execute_reply": "2022-06-07T19:56:39.517198Z"
    },
    "papermill": {
     "duration": 0.04856,
     "end_time": "2022-06-07T19:56:39.520341",
     "exception": false,
     "start_time": "2022-06-07T19:56:39.471781",
     "status": "completed"
    },
    "tags": []
   },
   "outputs": [
    {
     "data": {
      "text/plain": [
       "order_id                0\n",
       "payment_sequential      0\n",
       "payment_type            0\n",
       "payment_installments    0\n",
       "payment_value           0\n",
       "dtype: int64"
      ]
     },
     "execution_count": 8,
     "metadata": {},
     "output_type": "execute_result"
    }
   ],
   "source": [
    "#payment type\n",
    "payment_df.isnull().sum()"
   ]
  },
  {
   "cell_type": "code",
   "execution_count": 9,
   "id": "6a311b50",
   "metadata": {
    "execution": {
     "iopub.execute_input": "2022-06-07T19:56:39.550606Z",
     "iopub.status.busy": "2022-06-07T19:56:39.550002Z",
     "iopub.status.idle": "2022-06-07T19:56:39.566935Z",
     "shell.execute_reply": "2022-06-07T19:56:39.566231Z"
    },
    "papermill": {
     "duration": 0.034306,
     "end_time": "2022-06-07T19:56:39.568817",
     "exception": false,
     "start_time": "2022-06-07T19:56:39.534511",
     "status": "completed"
    },
    "tags": []
   },
   "outputs": [
    {
     "data": {
      "text/plain": [
       "payment_type\n",
       "boleto         19784\n",
       "credit_card    76795\n",
       "debit_card      1529\n",
       "not_defined        3\n",
       "voucher         5775\n",
       "dtype: int64"
      ]
     },
     "execution_count": 9,
     "metadata": {},
     "output_type": "execute_result"
    }
   ],
   "source": [
    "payment_df.groupby(['payment_type']).size()"
   ]
  },
  {
   "cell_type": "code",
   "execution_count": 10,
   "id": "300b19d4",
   "metadata": {
    "execution": {
     "iopub.execute_input": "2022-06-07T19:56:39.599157Z",
     "iopub.status.busy": "2022-06-07T19:56:39.598743Z",
     "iopub.status.idle": "2022-06-07T19:56:39.920356Z",
     "shell.execute_reply": "2022-06-07T19:56:39.919303Z"
    },
    "papermill": {
     "duration": 0.33923,
     "end_time": "2022-06-07T19:56:39.922468",
     "exception": false,
     "start_time": "2022-06-07T19:56:39.583238",
     "status": "completed"
    },
    "tags": []
   },
   "outputs": [
    {
     "name": "stderr",
     "output_type": "stream",
     "text": [
      "/opt/conda/lib/python3.7/site-packages/seaborn/_decorators.py:43: FutureWarning: Pass the following variable as a keyword arg: x. From version 0.12, the only valid positional argument will be `data`, and passing other arguments without an explicit keyword will result in an error or misinterpretation.\n",
      "  FutureWarning\n"
     ]
    },
    {
     "data": {
      "text/plain": [
       "Text(0, 0.5, 'no. customer')"
      ]
     },
     "execution_count": 10,
     "metadata": {},
     "output_type": "execute_result"
    },
    {
     "data": {
      "image/png": "[encoded data removed]",
      "text/plain": [
       "<Figure size 576x360 with 1 Axes>"
      ]
     },
     "metadata": {
      "needs_background": "light"
     },
     "output_type": "display_data"
    }
   ],
   "source": [
    "plt.figure(figsize=(8,5))\n",
    "sns.countplot(payment_df['payment_type'])\n",
    "plt.title('Customer Payment Types')\n",
    "plt.xlabel('Payment Type')\n",
    "plt.ylabel('no. customer')"
   ]
  },
  {
   "cell_type": "code",
   "execution_count": 11,
   "id": "f9ef3b9d",
   "metadata": {
    "execution": {
     "iopub.execute_input": "2022-06-07T19:56:39.953673Z",
     "iopub.status.busy": "2022-06-07T19:56:39.953199Z",
     "iopub.status.idle": "2022-06-07T19:56:41.480308Z",
     "shell.execute_reply": "2022-06-07T19:56:41.479578Z"
    },
    "papermill": {
     "duration": 1.545183,
     "end_time": "2022-06-07T19:56:41.482377",
     "exception": false,
     "start_time": "2022-06-07T19:56:39.937194",
     "status": "completed"
    },
    "tags": []
   },
   "outputs": [
    {
     "name": "stdout",
     "output_type": "stream",
     "text": [
      "  payment_type  payment_value\n",
      "0       boleto     145.034435\n",
      "1  credit_card     163.319021\n",
      "2   debit_card     142.570170\n",
      "3  not_defined       0.000000\n",
      "4      voucher      65.703354\n"
     ]
    },
    {
     "data": {
      "text/plain": [
       "Text(0, 0.5, 'Amount Spent')"
      ]
     },
     "execution_count": 11,
     "metadata": {},
     "output_type": "execute_result"
    },
    {
     "data": {
      "image/png": "[encoded data removed]",
      "text/plain": [
       "<Figure size 576x360 with 1 Axes>"
      ]
     },
     "metadata": {
      "needs_background": "light"
     },
     "output_type": "display_data"
    }
   ],
   "source": [
    "payment_type_spend = payment_df.groupby('payment_type')['payment_value'].mean().reset_index()\n",
    "print(payment_type_spend)\n",
    "# average value in barplot\n",
    "plt.figure(figsize=(8,5))\n",
    "sns.barplot(x='payment_type', y='payment_value', data=payment_df)\n",
    "plt.title('Value Spent using every Payment Method')\n",
    "plt.xlabel('Payment Method')\n",
    "plt.ylabel('Amount Spent')\n"
   ]
  },
  {
   "cell_type": "code",
   "execution_count": 12,
   "id": "fc286ad1",
   "metadata": {
    "execution": {
     "iopub.execute_input": "2022-06-07T19:56:41.515445Z",
     "iopub.status.busy": "2022-06-07T19:56:41.514515Z",
     "iopub.status.idle": "2022-06-07T19:56:41.731630Z",
     "shell.execute_reply": "2022-06-07T19:56:41.730570Z"
    },
    "papermill": {
     "duration": 0.23635,
     "end_time": "2022-06-07T19:56:41.734109",
     "exception": false,
     "start_time": "2022-06-07T19:56:41.497759",
     "status": "completed"
    },
    "tags": []
   },
   "outputs": [
    {
     "name": "stdout",
     "output_type": "stream",
     "text": [
      "  payment_type  payment_value\n",
      "0       boleto     2869361.27\n",
      "1  credit_card    12542084.19\n",
      "2   debit_card      217989.79\n",
      "3  not_defined           0.00\n",
      "4      voucher      379436.87\n"
     ]
    },
    {
     "data": {
      "text/plain": [
       "Text(0, 0.5, 'Amount Spent')"
      ]
     },
     "execution_count": 12,
     "metadata": {},
     "output_type": "execute_result"
    },
    {
     "data": {
      "image/png": "[encoded data removed]",
      "text/plain": [
       "<Figure size 576x360 with 1 Axes>"
      ]
     },
     "metadata": {
      "needs_background": "light"
     },
     "output_type": "display_data"
    }
   ],
   "source": [
    "payment_type_spend = payment_df.groupby('payment_type')['payment_value'].sum().reset_index()\n",
    "print(payment_type_spend)\n",
    "# total value in barplot\n",
    "plt.figure(figsize=(8,5))\n",
    "sns.barplot(x='payment_type', y='payment_value', data=payment_type_spend,\\\n",
    "           order=['credit_card', 'boleto', 'voucher', 'debit_card', 'not_defined'])\n",
    "plt.title('Value Spent using every Payment Method')\n",
    "plt.xlabel('Payment Method')\n",
    "plt.ylabel('Amount Spent')"
   ]
  },
  {
   "cell_type": "code",
   "execution_count": 13,
   "id": "4c2e1374",
   "metadata": {
    "execution": {
     "iopub.execute_input": "2022-06-07T19:56:41.767797Z",
     "iopub.status.busy": "2022-06-07T19:56:41.767372Z",
     "iopub.status.idle": "2022-06-07T19:56:42.044190Z",
     "shell.execute_reply": "2022-06-07T19:56:42.043247Z"
    },
    "papermill": {
     "duration": 0.296167,
     "end_time": "2022-06-07T19:56:42.046526",
     "exception": false,
     "start_time": "2022-06-07T19:56:41.750359",
     "status": "completed"
    },
    "tags": []
   },
   "outputs": [
    {
     "name": "stdout",
     "output_type": "stream",
     "text": [
      "98673\n",
      "98410\n",
      "99224\n"
     ]
    },
    {
     "name": "stderr",
     "output_type": "stream",
     "text": [
      "/opt/conda/lib/python3.7/site-packages/seaborn/_decorators.py:43: FutureWarning: Pass the following variable as a keyword arg: x. From version 0.12, the only valid positional argument will be `data`, and passing other arguments without an explicit keyword will result in an error or misinterpretation.\n",
      "  FutureWarning\n"
     ]
    },
    {
     "data": {
      "text/plain": [
       "Text(0, 0.5, 'no. reviews')"
      ]
     },
     "execution_count": 13,
     "metadata": {},
     "output_type": "execute_result"
    },
    {
     "data": {
      "image/png": "[encoded data removed]",
      "text/plain": [
       "<Figure size 576x360 with 1 Axes>"
      ]
     },
     "metadata": {
      "needs_background": "light"
     },
     "output_type": "display_data"
    }
   ],
   "source": [
    "print(order_review['order_id'].nunique())\n",
    "print(order_review['review_id'].nunique())\n",
    "print(len(order_review))\n",
    "plt.figure(figsize=(8,5))\n",
    "sns.countplot(order_review['review_score'])\n",
    "plt.title('review score count')\n",
    "plt.xlabel('review score')\n",
    "plt.ylabel('no. reviews')"
   ]
  },
  {
   "cell_type": "code",
   "execution_count": 14,
   "id": "e24e2d45",
   "metadata": {
    "execution": {
     "iopub.execute_input": "2022-06-07T19:56:42.081870Z",
     "iopub.status.busy": "2022-06-07T19:56:42.081135Z",
     "iopub.status.idle": "2022-06-07T19:56:42.349742Z",
     "shell.execute_reply": "2022-06-07T19:56:42.348796Z"
    },
    "papermill": {
     "duration": 0.288724,
     "end_time": "2022-06-07T19:56:42.352181",
     "exception": false,
     "start_time": "2022-06-07T19:56:42.063457",
     "status": "completed"
    },
    "tags": []
   },
   "outputs": [
    {
     "data": {
      "text/plain": [
       "Text(0, 0.5, 'no. products sold')"
      ]
     },
     "execution_count": 14,
     "metadata": {},
     "output_type": "execute_result"
    },
    {
     "data": {
      "image/png": "[encoded data removed]",
      "text/plain": [
       "<Figure size 1080x432 with 1 Axes>"
      ]
     },
     "metadata": {
      "needs_background": "light"
     },
     "output_type": "display_data"
    }
   ],
   "source": [
    "product_df_eng = product_df.merge(cat_translated, how='left', on='product_category_name')\n",
    "product_sub=product_df_eng.groupby('product_category_name_english').size()\n",
    "product_sub=product_sub.to_frame('count').reset_index()\n",
    "product_sub=product_sub.sort_values('count',ascending=False).reset_index()\n",
    "product_sub=product_sub[:10]\n",
    "product_sub\n",
    "plt.figure(figsize=(15,6))\n",
    "sns.barplot(x='product_category_name_english', y='count', data=product_sub)\n",
    "plt.title('product categories count')\n",
    "plt.xlabel('product categories')\n",
    "plt.ylabel('no. products sold')"
   ]
  },
  {
   "cell_type": "code",
   "execution_count": 15,
   "id": "4e748d72",
   "metadata": {
    "execution": {
     "iopub.execute_input": "2022-06-07T19:56:42.387848Z",
     "iopub.status.busy": "2022-06-07T19:56:42.387453Z",
     "iopub.status.idle": "2022-06-07T19:56:42.652978Z",
     "shell.execute_reply": "2022-06-07T19:56:42.652053Z"
    },
    "papermill": {
     "duration": 0.285974,
     "end_time": "2022-06-07T19:56:42.654987",
     "exception": false,
     "start_time": "2022-06-07T19:56:42.369013",
     "status": "completed"
    },
    "tags": []
   },
   "outputs": [
    {
     "data": {
      "text/html": [
       "<div>\n",
       "<style scoped>\n",
       "    .dataframe tbody tr th:only-of-type {\n",
       "        vertical-align: middle;\n",
       "    }\n",
       "\n",
       "    .dataframe tbody tr th {\n",
       "        vertical-align: top;\n",
       "    }\n",
       "\n",
       "    .dataframe thead th {\n",
       "        text-align: right;\n",
       "    }\n",
       "</style>\n",
       "<table border=\"1\" class=\"dataframe\">\n",
       "  <thead>\n",
       "    <tr style=\"text-align: right;\">\n",
       "      <th></th>\n",
       "      <th>order_id</th>\n",
       "      <th>customer_id</th>\n",
       "      <th>order_status</th>\n",
       "      <th>order_purchase_timestamp</th>\n",
       "      <th>order_approved_at</th>\n",
       "      <th>order_delivered_carrier_date</th>\n",
       "      <th>order_delivered_customer_date</th>\n",
       "      <th>order_estimated_delivery_date</th>\n",
       "      <th>payment_sequential</th>\n",
       "      <th>payment_type</th>\n",
       "      <th>payment_installments</th>\n",
       "      <th>payment_value</th>\n",
       "      <th>order_purchase_date</th>\n",
       "    </tr>\n",
       "  </thead>\n",
       "  <tbody>\n",
       "    <tr>\n",
       "      <th>87026</th>\n",
       "      <td>91bcbd0102f5188ea47df5bcc83f3cad</td>\n",
       "      <td>0e63522224dc7d760139532f17a3634f</td>\n",
       "      <td>delivered</td>\n",
       "      <td>2017-01-31 02:29:51</td>\n",
       "      <td>2017-02-02 03:32:06</td>\n",
       "      <td>2017-02-03 11:15:02</td>\n",
       "      <td>2017-02-16 15:54:13</td>\n",
       "      <td>2017-03-22 00:00:00</td>\n",
       "      <td>1.0</td>\n",
       "      <td>boleto</td>\n",
       "      <td>1.0</td>\n",
       "      <td>227.90</td>\n",
       "      <td>2017-01</td>\n",
       "    </tr>\n",
       "    <tr>\n",
       "      <th>68774</th>\n",
       "      <td>4bdbe1f2d1b360c34d90175e10ec090b</td>\n",
       "      <td>92074364e1af80a6ca822ae3141a7d77</td>\n",
       "      <td>delivered</td>\n",
       "      <td>2017-01-31 17:54:09</td>\n",
       "      <td>2017-01-31 18:05:23</td>\n",
       "      <td>2017-02-02 09:43:40</td>\n",
       "      <td>2017-03-30 13:22:48</td>\n",
       "      <td>2017-03-15 00:00:00</td>\n",
       "      <td>1.0</td>\n",
       "      <td>credit_card</td>\n",
       "      <td>1.0</td>\n",
       "      <td>197.59</td>\n",
       "      <td>2017-01</td>\n",
       "    </tr>\n",
       "    <tr>\n",
       "      <th>39427</th>\n",
       "      <td>2d53b54fb747893711031caffe615f9c</td>\n",
       "      <td>d8820c41fa55a2229c9d79da5ab99565</td>\n",
       "      <td>delivered</td>\n",
       "      <td>2017-01-31 10:33:02</td>\n",
       "      <td>2017-01-31 11:31:09</td>\n",
       "      <td>2017-01-31 12:48:50</td>\n",
       "      <td>2017-02-09 15:58:43</td>\n",
       "      <td>2017-03-10 00:00:00</td>\n",
       "      <td>1.0</td>\n",
       "      <td>credit_card</td>\n",
       "      <td>4.0</td>\n",
       "      <td>242.99</td>\n",
       "      <td>2017-01</td>\n",
       "    </tr>\n",
       "    <tr>\n",
       "      <th>15987</th>\n",
       "      <td>d81dff089ae648dacea746f77643f86e</td>\n",
       "      <td>5e6c17c1aac5a1acf6e38746eeebc11d</td>\n",
       "      <td>delivered</td>\n",
       "      <td>2017-01-24 22:16:05</td>\n",
       "      <td>2017-01-24 22:25:33</td>\n",
       "      <td>2017-01-26 10:19:05</td>\n",
       "      <td>2017-02-01 00:47:45</td>\n",
       "      <td>2017-02-17 00:00:00</td>\n",
       "      <td>1.0</td>\n",
       "      <td>credit_card</td>\n",
       "      <td>10.0</td>\n",
       "      <td>910.60</td>\n",
       "      <td>2017-01</td>\n",
       "    </tr>\n",
       "    <tr>\n",
       "      <th>2899</th>\n",
       "      <td>481f2db41ea6571226192db2b584fa6e</td>\n",
       "      <td>bae2e17717f1e6f357bbac0107dabfd6</td>\n",
       "      <td>delivered</td>\n",
       "      <td>2017-01-26 18:27:04</td>\n",
       "      <td>2017-01-26 19:00:21</td>\n",
       "      <td>2017-02-06 11:54:29</td>\n",
       "      <td>2017-02-13 13:34:45</td>\n",
       "      <td>2017-02-22 00:00:00</td>\n",
       "      <td>1.0</td>\n",
       "      <td>credit_card</td>\n",
       "      <td>2.0</td>\n",
       "      <td>45.49</td>\n",
       "      <td>2017-01</td>\n",
       "    </tr>\n",
       "  </tbody>\n",
       "</table>\n",
       "</div>"
      ],
      "text/plain": [
       "                               order_id                       customer_id  \\\n",
       "87026  91bcbd0102f5188ea47df5bcc83f3cad  0e63522224dc7d760139532f17a3634f   \n",
       "68774  4bdbe1f2d1b360c34d90175e10ec090b  92074364e1af80a6ca822ae3141a7d77   \n",
       "39427  2d53b54fb747893711031caffe615f9c  d8820c41fa55a2229c9d79da5ab99565   \n",
       "15987  d81dff089ae648dacea746f77643f86e  5e6c17c1aac5a1acf6e38746eeebc11d   \n",
       "2899   481f2db41ea6571226192db2b584fa6e  bae2e17717f1e6f357bbac0107dabfd6   \n",
       "\n",
       "      order_status order_purchase_timestamp    order_approved_at  \\\n",
       "87026    delivered      2017-01-31 02:29:51  2017-02-02 03:32:06   \n",
       "68774    delivered      2017-01-31 17:54:09  2017-01-31 18:05:23   \n",
       "39427    delivered      2017-01-31 10:33:02  2017-01-31 11:31:09   \n",
       "15987    delivered      2017-01-24 22:16:05  2017-01-24 22:25:33   \n",
       "2899     delivered      2017-01-26 18:27:04  2017-01-26 19:00:21   \n",
       "\n",
       "      order_delivered_carrier_date order_delivered_customer_date  \\\n",
       "87026          2017-02-03 11:15:02           2017-02-16 15:54:13   \n",
       "68774          2017-02-02 09:43:40           2017-03-30 13:22:48   \n",
       "39427          2017-01-31 12:48:50           2017-02-09 15:58:43   \n",
       "15987          2017-01-26 10:19:05           2017-02-01 00:47:45   \n",
       "2899           2017-02-06 11:54:29           2017-02-13 13:34:45   \n",
       "\n",
       "      order_estimated_delivery_date  payment_sequential payment_type  \\\n",
       "87026           2017-03-22 00:00:00                 1.0       boleto   \n",
       "68774           2017-03-15 00:00:00                 1.0  credit_card   \n",
       "39427           2017-03-10 00:00:00                 1.0  credit_card   \n",
       "15987           2017-02-17 00:00:00                 1.0  credit_card   \n",
       "2899            2017-02-22 00:00:00                 1.0  credit_card   \n",
       "\n",
       "       payment_installments  payment_value order_purchase_date  \n",
       "87026                   1.0         227.90             2017-01  \n",
       "68774                   1.0         197.59             2017-01  \n",
       "39427                   4.0         242.99             2017-01  \n",
       "15987                  10.0         910.60             2017-01  \n",
       "2899                    2.0          45.49             2017-01  "
      ]
     },
     "execution_count": 15,
     "metadata": {},
     "output_type": "execute_result"
    }
   ],
   "source": [
    "#The company’s inception was January 2017 (so you can ignore all data before January 2017)\n",
    "#It’s currently September 2018 (e.g., you can ignore all data after September 2018)\n",
    "\n",
    "order_payment=order_df.merge(payment_df, how='left', on='order_id')\n",
    "# order_payment_item=order_payment.merge(order_item, how='left', on='order_id')\n",
    "order_payment['order_purchase_date'] = pd.to_datetime(order_payment['order_purchase_timestamp']).dt.to_period('M')\n",
    "order_payment=order_payment.loc[(order_payment['order_purchase_date']>='2017-01')\n",
    "                                         & (order_payment['order_purchase_date']<'2018-09')]\n",
    "order_payment = order_payment.sort_values('order_purchase_date',ascending=True)\n",
    "order_payment.head()"
   ]
  },
  {
   "cell_type": "code",
   "execution_count": 16,
   "id": "5359898d",
   "metadata": {
    "execution": {
     "iopub.execute_input": "2022-06-07T19:56:42.691173Z",
     "iopub.status.busy": "2022-06-07T19:56:42.690724Z",
     "iopub.status.idle": "2022-06-07T19:56:43.041135Z",
     "shell.execute_reply": "2022-06-07T19:56:43.040124Z"
    },
    "papermill": {
     "duration": 0.371108,
     "end_time": "2022-06-07T19:56:43.043247",
     "exception": false,
     "start_time": "2022-06-07T19:56:42.672139",
     "status": "completed"
    },
    "tags": []
   },
   "outputs": [
    {
     "data": {
      "text/html": [
       "<div>\n",
       "<style scoped>\n",
       "    .dataframe tbody tr th:only-of-type {\n",
       "        vertical-align: middle;\n",
       "    }\n",
       "\n",
       "    .dataframe tbody tr th {\n",
       "        vertical-align: top;\n",
       "    }\n",
       "\n",
       "    .dataframe thead th {\n",
       "        text-align: right;\n",
       "    }\n",
       "</style>\n",
       "<table border=\"1\" class=\"dataframe\">\n",
       "  <thead>\n",
       "    <tr style=\"text-align: right;\">\n",
       "      <th></th>\n",
       "      <th>order_purchase_date</th>\n",
       "      <th>payment_value</th>\n",
       "      <th>order_id</th>\n",
       "    </tr>\n",
       "  </thead>\n",
       "  <tbody>\n",
       "    <tr>\n",
       "      <th>0</th>\n",
       "      <td>2017-01</td>\n",
       "      <td>138488.04</td>\n",
       "      <td>800</td>\n",
       "    </tr>\n",
       "    <tr>\n",
       "      <th>1</th>\n",
       "      <td>2017-02</td>\n",
       "      <td>291908.01</td>\n",
       "      <td>1780</td>\n",
       "    </tr>\n",
       "    <tr>\n",
       "      <th>2</th>\n",
       "      <td>2017-03</td>\n",
       "      <td>449863.60</td>\n",
       "      <td>2682</td>\n",
       "    </tr>\n",
       "    <tr>\n",
       "      <th>3</th>\n",
       "      <td>2017-04</td>\n",
       "      <td>417788.03</td>\n",
       "      <td>2404</td>\n",
       "    </tr>\n",
       "    <tr>\n",
       "      <th>4</th>\n",
       "      <td>2017-05</td>\n",
       "      <td>592918.82</td>\n",
       "      <td>3700</td>\n",
       "    </tr>\n",
       "  </tbody>\n",
       "</table>\n",
       "</div>"
      ],
      "text/plain": [
       "  order_purchase_date  payment_value  order_id\n",
       "0             2017-01      138488.04       800\n",
       "1             2017-02      291908.01      1780\n",
       "2             2017-03      449863.60      2682\n",
       "3             2017-04      417788.03      2404\n",
       "4             2017-05      592918.82      3700"
      ]
     },
     "execution_count": 16,
     "metadata": {},
     "output_type": "execute_result"
    }
   ],
   "source": [
    "order_total =  order_payment.groupby('order_id').agg({'payment_value':'sum'}).reset_index()\n",
    "order_total.columns = ['order_id', 'total_order_value']\n",
    "revenue =order_payment.groupby('order_purchase_date') \\\n",
    "                .agg(payment_value = ('payment_value', 'sum'), \\\n",
    "                                    order_id = ('order_id',\n",
    "                                    pd.Series.nunique)).reset_index()\n",
    "revenue.head()"
   ]
  },
  {
   "cell_type": "code",
   "execution_count": 17,
   "id": "9638e411",
   "metadata": {
    "execution": {
     "iopub.execute_input": "2022-06-07T19:56:43.080356Z",
     "iopub.status.busy": "2022-06-07T19:56:43.079815Z",
     "iopub.status.idle": "2022-06-07T19:56:43.591672Z",
     "shell.execute_reply": "2022-06-07T19:56:43.590524Z"
    },
    "papermill": {
     "duration": 0.533733,
     "end_time": "2022-06-07T19:56:43.594376",
     "exception": false,
     "start_time": "2022-06-07T19:56:43.060643",
     "status": "completed"
    },
    "tags": []
   },
   "outputs": [
    {
     "data": {
      "text/html": [
       "<div>\n",
       "<style scoped>\n",
       "    .dataframe tbody tr th:only-of-type {\n",
       "        vertical-align: middle;\n",
       "    }\n",
       "\n",
       "    .dataframe tbody tr th {\n",
       "        vertical-align: top;\n",
       "    }\n",
       "\n",
       "    .dataframe thead th {\n",
       "        text-align: right;\n",
       "    }\n",
       "</style>\n",
       "<table border=\"1\" class=\"dataframe\">\n",
       "  <thead>\n",
       "    <tr style=\"text-align: right;\">\n",
       "      <th></th>\n",
       "      <th>order_purchase_date</th>\n",
       "      <th>payment_value</th>\n",
       "      <th>order_id</th>\n",
       "    </tr>\n",
       "  </thead>\n",
       "  <tbody>\n",
       "    <tr>\n",
       "      <th>0</th>\n",
       "      <td>2017-01</td>\n",
       "      <td>138488.04</td>\n",
       "      <td>800</td>\n",
       "    </tr>\n",
       "    <tr>\n",
       "      <th>1</th>\n",
       "      <td>2017-02</td>\n",
       "      <td>291908.01</td>\n",
       "      <td>1780</td>\n",
       "    </tr>\n",
       "    <tr>\n",
       "      <th>2</th>\n",
       "      <td>2017-03</td>\n",
       "      <td>449863.60</td>\n",
       "      <td>2682</td>\n",
       "    </tr>\n",
       "    <tr>\n",
       "      <th>3</th>\n",
       "      <td>2017-04</td>\n",
       "      <td>417788.03</td>\n",
       "      <td>2404</td>\n",
       "    </tr>\n",
       "    <tr>\n",
       "      <th>4</th>\n",
       "      <td>2017-05</td>\n",
       "      <td>592918.82</td>\n",
       "      <td>3700</td>\n",
       "    </tr>\n",
       "  </tbody>\n",
       "</table>\n",
       "</div>"
      ],
      "text/plain": [
       "  order_purchase_date  payment_value  order_id\n",
       "0             2017-01      138488.04       800\n",
       "1             2017-02      291908.01      1780\n",
       "2             2017-03      449863.60      2682\n",
       "3             2017-04      417788.03      2404\n",
       "4             2017-05      592918.82      3700"
      ]
     },
     "execution_count": 17,
     "metadata": {},
     "output_type": "execute_result"
    }
   ],
   "source": [
    "order_total =  order_payment.groupby('order_id').agg({'payment_value':'sum'}).reset_index()\n",
    "order_total.columns = ['order_id', 'total_order_value']\n",
    "\n",
    "order_payment_1 = order_payment.merge(order_total, how='left', on=\"order_id\")\n",
    "revenue_1 =order_payment_1.groupby('order_purchase_date') \\\n",
    "                .agg(payment_value = ('payment_value', 'sum'), \\\n",
    "                                    order_id = ('order_id',\n",
    "                                    pd.Series.nunique)).reset_index()\n",
    "revenue_1.head()"
   ]
  },
  {
   "cell_type": "code",
   "execution_count": 18,
   "id": "d78b135c",
   "metadata": {
    "execution": {
     "iopub.execute_input": "2022-06-07T19:56:43.632777Z",
     "iopub.status.busy": "2022-06-07T19:56:43.632008Z",
     "iopub.status.idle": "2022-06-07T19:56:50.665999Z",
     "shell.execute_reply": "2022-06-07T19:56:50.665057Z"
    },
    "papermill": {
     "duration": 7.055073,
     "end_time": "2022-06-07T19:56:50.668125",
     "exception": false,
     "start_time": "2022-06-07T19:56:43.613052",
     "status": "completed"
    },
    "tags": []
   },
   "outputs": [
    {
     "data": {
      "text/html": [
       "<div>\n",
       "<style scoped>\n",
       "    .dataframe tbody tr th:only-of-type {\n",
       "        vertical-align: middle;\n",
       "    }\n",
       "\n",
       "    .dataframe tbody tr th {\n",
       "        vertical-align: top;\n",
       "    }\n",
       "\n",
       "    .dataframe thead th {\n",
       "        text-align: right;\n",
       "    }\n",
       "</style>\n",
       "<table border=\"1\" class=\"dataframe\">\n",
       "  <thead>\n",
       "    <tr style=\"text-align: right;\">\n",
       "      <th></th>\n",
       "      <th>order_numbers</th>\n",
       "      <th>customer_id</th>\n",
       "    </tr>\n",
       "  </thead>\n",
       "  <tbody>\n",
       "    <tr>\n",
       "      <th>0</th>\n",
       "      <td>1</td>\n",
       "      <td>99092</td>\n",
       "    </tr>\n",
       "  </tbody>\n",
       "</table>\n",
       "</div>"
      ],
      "text/plain": [
       "   order_numbers  customer_id\n",
       "0              1        99092"
      ]
     },
     "execution_count": 18,
     "metadata": {},
     "output_type": "execute_result"
    }
   ],
   "source": [
    "# customer order numbers use customer_id failed\n",
    "cust_order_num =  order_payment.groupby('customer_id').agg(first_payment_month=('order_purchase_date', 'min'),\\\n",
    "                                                           order_numbers=('order_id', pd.Series.nunique),\\\n",
    "                                                           payment_value=('payment_value', 'sum')\n",
    "                                                          ).reset_index()\n",
    "num_cus_by_num_orders = cust_order_num.groupby('order_numbers')['customer_id'].count().reset_index()\n",
    "num_cus_by_num_orders.head(3)"
   ]
  },
  {
   "cell_type": "code",
   "execution_count": 19,
   "id": "3f484afd",
   "metadata": {
    "execution": {
     "iopub.execute_input": "2022-06-07T19:56:50.705831Z",
     "iopub.status.busy": "2022-06-07T19:56:50.705422Z",
     "iopub.status.idle": "2022-06-07T19:56:57.676515Z",
     "shell.execute_reply": "2022-06-07T19:56:57.675587Z"
    },
    "papermill": {
     "duration": 6.992215,
     "end_time": "2022-06-07T19:56:57.678492",
     "exception": false,
     "start_time": "2022-06-07T19:56:50.686277",
     "status": "completed"
    },
    "tags": []
   },
   "outputs": [
    {
     "data": {
      "text/html": [
       "<div>\n",
       "<style scoped>\n",
       "    .dataframe tbody tr th:only-of-type {\n",
       "        vertical-align: middle;\n",
       "    }\n",
       "\n",
       "    .dataframe tbody tr th {\n",
       "        vertical-align: top;\n",
       "    }\n",
       "\n",
       "    .dataframe thead th {\n",
       "        text-align: right;\n",
       "    }\n",
       "</style>\n",
       "<table border=\"1\" class=\"dataframe\">\n",
       "  <thead>\n",
       "    <tr style=\"text-align: right;\">\n",
       "      <th></th>\n",
       "      <th>order_numbers</th>\n",
       "      <th>customer_unique_id</th>\n",
       "    </tr>\n",
       "  </thead>\n",
       "  <tbody>\n",
       "    <tr>\n",
       "      <th>0</th>\n",
       "      <td>1</td>\n",
       "      <td>92799</td>\n",
       "    </tr>\n",
       "    <tr>\n",
       "      <th>1</th>\n",
       "      <td>2</td>\n",
       "      <td>2728</td>\n",
       "    </tr>\n",
       "    <tr>\n",
       "      <th>2</th>\n",
       "      <td>3</td>\n",
       "      <td>198</td>\n",
       "    </tr>\n",
       "  </tbody>\n",
       "</table>\n",
       "</div>"
      ],
      "text/plain": [
       "   order_numbers  customer_unique_id\n",
       "0              1               92799\n",
       "1              2                2728\n",
       "2              3                 198"
      ]
     },
     "execution_count": 19,
     "metadata": {},
     "output_type": "execute_result"
    }
   ],
   "source": [
    "# customer order numbers-use customer unique id not customer id\n",
    "\n",
    "cust_order_payment=order_payment.merge(customer_df, 'left', 'customer_id')\n",
    "cust_order_num =  cust_order_payment.groupby(['customer_unique_id']).agg(\n",
    "                                                            first_payment_month=('order_purchase_date', 'min'),\\\n",
    "                                                           order_numbers=('order_id', pd.Series.nunique),\\\n",
    "                                                           payment_value=('payment_value', 'sum')\n",
    "                                                          ).reset_index()\n",
    "num_cus_by_num_orders = cust_order_num.groupby('order_numbers')['customer_unique_id'].count().reset_index()\n",
    "num_cus_by_num_orders.head(3)"
   ]
  },
  {
   "cell_type": "code",
   "execution_count": 20,
   "id": "947b907c",
   "metadata": {
    "execution": {
     "iopub.execute_input": "2022-06-07T19:56:57.716869Z",
     "iopub.status.busy": "2022-06-07T19:56:57.716476Z",
     "iopub.status.idle": "2022-06-07T19:56:57.746750Z",
     "shell.execute_reply": "2022-06-07T19:56:57.745650Z"
    },
    "papermill": {
     "duration": 0.052617,
     "end_time": "2022-06-07T19:56:57.749392",
     "exception": false,
     "start_time": "2022-06-07T19:56:57.696775",
     "status": "completed"
    },
    "tags": []
   },
   "outputs": [
    {
     "data": {
      "text/html": [
       "<div>\n",
       "<style scoped>\n",
       "    .dataframe tbody tr th:only-of-type {\n",
       "        vertical-align: middle;\n",
       "    }\n",
       "\n",
       "    .dataframe tbody tr th {\n",
       "        vertical-align: top;\n",
       "    }\n",
       "\n",
       "    .dataframe thead th {\n",
       "        text-align: right;\n",
       "    }\n",
       "</style>\n",
       "<table border=\"1\" class=\"dataframe\">\n",
       "  <thead>\n",
       "    <tr style=\"text-align: right;\">\n",
       "      <th></th>\n",
       "      <th>first_payment_month</th>\n",
       "      <th>customer_unique_id</th>\n",
       "    </tr>\n",
       "  </thead>\n",
       "  <tbody>\n",
       "    <tr>\n",
       "      <th>10</th>\n",
       "      <td>2017-11</td>\n",
       "      <td>7305</td>\n",
       "    </tr>\n",
       "    <tr>\n",
       "      <th>12</th>\n",
       "      <td>2018-01</td>\n",
       "      <td>7026</td>\n",
       "    </tr>\n",
       "    <tr>\n",
       "      <th>14</th>\n",
       "      <td>2018-03</td>\n",
       "      <td>6966</td>\n",
       "    </tr>\n",
       "  </tbody>\n",
       "</table>\n",
       "</div>"
      ],
      "text/plain": [
       "   first_payment_month  customer_unique_id\n",
       "10             2017-11                7305\n",
       "12             2018-01                7026\n",
       "14             2018-03                6966"
      ]
     },
     "execution_count": 20,
     "metadata": {},
     "output_type": "execute_result"
    }
   ],
   "source": [
    "#first_payment_month\n",
    "\n",
    "num_cus_by_num_orders = cust_order_num.groupby('first_payment_month')['customer_unique_id'].count().reset_index()\n",
    "num_cus_by_num_orders = num_cus_by_num_orders.sort_values('customer_unique_id',ascending=False)\n",
    "\n",
    "num_cus_by_num_orders.head(3)"
   ]
  },
  {
   "cell_type": "code",
   "execution_count": 21,
   "id": "a1bee4ed",
   "metadata": {
    "execution": {
     "iopub.execute_input": "2022-06-07T19:56:57.787361Z",
     "iopub.status.busy": "2022-06-07T19:56:57.786982Z",
     "iopub.status.idle": "2022-06-07T19:56:57.820423Z",
     "shell.execute_reply": "2022-06-07T19:56:57.819301Z"
    },
    "papermill": {
     "duration": 0.055186,
     "end_time": "2022-06-07T19:56:57.822779",
     "exception": false,
     "start_time": "2022-06-07T19:56:57.767593",
     "status": "completed"
    },
    "tags": []
   },
   "outputs": [
    {
     "data": {
      "text/html": [
       "<div>\n",
       "<style scoped>\n",
       "    .dataframe tbody tr th:only-of-type {\n",
       "        vertical-align: middle;\n",
       "    }\n",
       "\n",
       "    .dataframe tbody tr th {\n",
       "        vertical-align: top;\n",
       "    }\n",
       "\n",
       "    .dataframe thead th {\n",
       "        text-align: right;\n",
       "    }\n",
       "</style>\n",
       "<table border=\"1\" class=\"dataframe\">\n",
       "  <thead>\n",
       "    <tr style=\"text-align: right;\">\n",
       "      <th></th>\n",
       "      <th>order_numbers</th>\n",
       "      <th>payment_value</th>\n",
       "      <th>customer_unique_id</th>\n",
       "    </tr>\n",
       "  </thead>\n",
       "  <tbody>\n",
       "    <tr>\n",
       "      <th>0</th>\n",
       "      <td>1</td>\n",
       "      <td>105.660</td>\n",
       "      <td>92799</td>\n",
       "    </tr>\n",
       "    <tr>\n",
       "      <th>1</th>\n",
       "      <td>2</td>\n",
       "      <td>217.870</td>\n",
       "      <td>2728</td>\n",
       "    </tr>\n",
       "    <tr>\n",
       "      <th>2</th>\n",
       "      <td>3</td>\n",
       "      <td>345.140</td>\n",
       "      <td>198</td>\n",
       "    </tr>\n",
       "    <tr>\n",
       "      <th>3</th>\n",
       "      <td>4</td>\n",
       "      <td>537.720</td>\n",
       "      <td>30</td>\n",
       "    </tr>\n",
       "    <tr>\n",
       "      <th>4</th>\n",
       "      <td>5</td>\n",
       "      <td>674.655</td>\n",
       "      <td>8</td>\n",
       "    </tr>\n",
       "  </tbody>\n",
       "</table>\n",
       "</div>"
      ],
      "text/plain": [
       "   order_numbers  payment_value  customer_unique_id\n",
       "0              1        105.660               92799\n",
       "1              2        217.870                2728\n",
       "2              3        345.140                 198\n",
       "3              4        537.720                  30\n",
       "4              5        674.655                   8"
      ]
     },
     "execution_count": 21,
     "metadata": {},
     "output_type": "execute_result"
    }
   ],
   "source": [
    "#median spend in each orders\n",
    "num_cus_median = cust_order_num.groupby('order_numbers').agg({'payment_value':'median',\\\n",
    "                                                              'customer_unique_id':'count'}).reset_index()\n",
    "num_cus_median.head()"
   ]
  },
  {
   "cell_type": "code",
   "execution_count": 22,
   "id": "4ecccabd",
   "metadata": {
    "execution": {
     "iopub.execute_input": "2022-06-07T19:56:57.861272Z",
     "iopub.status.busy": "2022-06-07T19:56:57.860888Z",
     "iopub.status.idle": "2022-06-07T19:56:58.156557Z",
     "shell.execute_reply": "2022-06-07T19:56:58.155588Z"
    },
    "papermill": {
     "duration": 0.317769,
     "end_time": "2022-06-07T19:56:58.158834",
     "exception": false,
     "start_time": "2022-06-07T19:56:57.841065",
     "status": "completed"
    },
    "tags": []
   },
   "outputs": [
    {
     "data": {
      "text/plain": [
       "<AxesSubplot:xlabel='order_numbers', ylabel='payment_value'>"
      ]
     },
     "execution_count": 22,
     "metadata": {},
     "output_type": "execute_result"
    },
    {
     "data": {
      "image/png": "[encoded data removed]",
      "text/plain": [
       "<Figure size 432x288 with 1 Axes>"
      ]
     },
     "metadata": {
      "needs_background": "light"
     },
     "output_type": "display_data"
    }
   ],
   "source": [
    "#box plot\n",
    "sns.boxplot(x=cust_order_num['order_numbers'], y=cust_order_num['payment_value'],width=0.5,\\\n",
    "                 showfliers=False,\n",
    "                palette=\"Blues\")"
   ]
  },
  {
   "cell_type": "code",
   "execution_count": 23,
   "id": "c54e38ba",
   "metadata": {
    "execution": {
     "iopub.execute_input": "2022-06-07T19:56:58.199038Z",
     "iopub.status.busy": "2022-06-07T19:56:58.198114Z",
     "iopub.status.idle": "2022-06-07T19:56:58.489189Z",
     "shell.execute_reply": "2022-06-07T19:56:58.488469Z"
    },
    "papermill": {
     "duration": 0.313632,
     "end_time": "2022-06-07T19:56:58.491358",
     "exception": false,
     "start_time": "2022-06-07T19:56:58.177726",
     "status": "completed"
    },
    "tags": []
   },
   "outputs": [
    {
     "data": {
      "text/plain": [
       "<AxesSubplot:xlabel='order_numbers', ylabel='avg_payment'>"
      ]
     },
     "execution_count": 23,
     "metadata": {},
     "output_type": "execute_result"
    },
    {
     "data": {
      "image/png": "[encoded data removed]",
      "text/plain": [
       "<Figure size 432x288 with 1 Axes>"
      ]
     },
     "metadata": {
      "needs_background": "light"
     },
     "output_type": "display_data"
    }
   ],
   "source": [
    "#box plot with average payment\n",
    "# wrong --- cust_order_num['avg_payment']=cust_order_num['payment_value'].mean()\n",
    "cust_order_num['avg_payment'] = \\\n",
    "    cust_order_num['payment_value']/cust_order_num['order_numbers']\n",
    "#To remove the outliers from the chart, specify the “showfliers” parameter and set it to false.\n",
    "sns.boxplot(x=cust_order_num['order_numbers'], y=cust_order_num['avg_payment'],\\\n",
    "            width=0.5,showfliers=False, palette=\"Blues\")"
   ]
  },
  {
   "cell_type": "code",
   "execution_count": 24,
   "id": "da027a78",
   "metadata": {
    "execution": {
     "iopub.execute_input": "2022-06-07T19:56:58.533162Z",
     "iopub.status.busy": "2022-06-07T19:56:58.532013Z",
     "iopub.status.idle": "2022-06-07T19:56:58.851177Z",
     "shell.execute_reply": "2022-06-07T19:56:58.850400Z"
    },
    "papermill": {
     "duration": 0.342424,
     "end_time": "2022-06-07T19:56:58.853424",
     "exception": false,
     "start_time": "2022-06-07T19:56:58.511000",
     "status": "completed"
    },
    "tags": []
   },
   "outputs": [
    {
     "data": {
      "image/png": "[encoded data removed]",
      "text/plain": [
       "<Figure size 432x288 with 1 Axes>"
      ]
     },
     "metadata": {
      "needs_background": "light"
     },
     "output_type": "display_data"
    }
   ],
   "source": [
    "#group the order num > 5\n",
    "cust_order_num['order_cat']=''\n",
    "cust_order_num.loc[cust_order_num['order_numbers'] == 1, 'order_cat'] = '1 order'\n",
    "cust_order_num.loc[cust_order_num['order_numbers'] == 2, 'order_cat'] = '2 orders'\n",
    "cust_order_num.loc[cust_order_num['order_numbers'] == 3, 'order_cat'] = '3 orders'\n",
    "cust_order_num.loc[cust_order_num['order_numbers'] == 4, 'order_cat'] = '4 orders'\n",
    "cust_order_num.loc[cust_order_num['order_numbers'] == 5, 'order_cat'] = '5 orders'\n",
    "cust_order_num.loc[cust_order_num['order_numbers'] > 5, 'order_cat'] = '> 5 orders'\n",
    "\n",
    "bplot=sns.boxplot(x=cust_order_num['order_cat'], y=cust_order_num['avg_payment'],\\\n",
    "                width=0.5,showfliers=False, palette=\"Blues\", \\\n",
    "                order=['1 order', '2 orders', '3 orders', '4 orders', '5 orders', '> 5 orders'])\n",
    "# setting chart title, axis names, and changing styling\n",
    "bplot.axes.set_title(\"Distribution of spend by customer type\",fontsize=16)\n",
    "bplot.set_xlabel(\"Customers split by number of orders\", fontsize=14)\n",
    "bplot.set_ylabel(\"Average spend per order\",fontsize=14)\n",
    "bplot.tick_params(labelsize=10)\n",
    "sns.set_style(\"ticks\")"
   ]
  },
  {
   "cell_type": "code",
   "execution_count": 25,
   "id": "88bf5f5b",
   "metadata": {
    "execution": {
     "iopub.execute_input": "2022-06-07T19:56:58.894971Z",
     "iopub.status.busy": "2022-06-07T19:56:58.894244Z",
     "iopub.status.idle": "2022-06-07T19:56:59.012905Z",
     "shell.execute_reply": "2022-06-07T19:56:59.011954Z"
    },
    "papermill": {
     "duration": 0.142086,
     "end_time": "2022-06-07T19:56:59.015331",
     "exception": false,
     "start_time": "2022-06-07T19:56:58.873245",
     "status": "completed"
    },
    "tags": []
   },
   "outputs": [
    {
     "data": {
      "text/html": [
       "<div>\n",
       "<style scoped>\n",
       "    .dataframe tbody tr th:only-of-type {\n",
       "        vertical-align: middle;\n",
       "    }\n",
       "\n",
       "    .dataframe tbody tr th {\n",
       "        vertical-align: top;\n",
       "    }\n",
       "\n",
       "    .dataframe thead th {\n",
       "        text-align: right;\n",
       "    }\n",
       "</style>\n",
       "<table border=\"1\" class=\"dataframe\">\n",
       "  <thead>\n",
       "    <tr style=\"text-align: right;\">\n",
       "      <th></th>\n",
       "      <th>order_id</th>\n",
       "      <th>product_id</th>\n",
       "      <th>total_price</th>\n",
       "      <th>product_category_name_english</th>\n",
       "    </tr>\n",
       "  </thead>\n",
       "  <tbody>\n",
       "    <tr>\n",
       "      <th>0</th>\n",
       "      <td>00010242fe8c5a6d1ba2dd792cb16214</td>\n",
       "      <td>4244733e06e7ecb4970a6e2683c13e61</td>\n",
       "      <td>72.19</td>\n",
       "      <td>cool_stuff</td>\n",
       "    </tr>\n",
       "    <tr>\n",
       "      <th>1</th>\n",
       "      <td>00018f77f2f0320c557190d7a144bdd3</td>\n",
       "      <td>e5f2d52b802189ee658865ca93d83a8f</td>\n",
       "      <td>259.83</td>\n",
       "      <td>pet_shop</td>\n",
       "    </tr>\n",
       "    <tr>\n",
       "      <th>2</th>\n",
       "      <td>000229ec398224ef6ca0657da4fc703e</td>\n",
       "      <td>c777355d18b72b67abbeef9df44fd0fd</td>\n",
       "      <td>216.87</td>\n",
       "      <td>furniture_decor</td>\n",
       "    </tr>\n",
       "    <tr>\n",
       "      <th>3</th>\n",
       "      <td>00024acbcdf0a6daa1e931b038114c75</td>\n",
       "      <td>7634da152a4610f1595efa32f14722fc</td>\n",
       "      <td>25.78</td>\n",
       "      <td>perfumery</td>\n",
       "    </tr>\n",
       "    <tr>\n",
       "      <th>4</th>\n",
       "      <td>00042b26cf59d7ce69dfabb4e55b4fd9</td>\n",
       "      <td>ac6c3623068f30de03045865e4e10089</td>\n",
       "      <td>218.04</td>\n",
       "      <td>garden_tools</td>\n",
       "    </tr>\n",
       "  </tbody>\n",
       "</table>\n",
       "</div>"
      ],
      "text/plain": [
       "                           order_id                        product_id  \\\n",
       "0  00010242fe8c5a6d1ba2dd792cb16214  4244733e06e7ecb4970a6e2683c13e61   \n",
       "1  00018f77f2f0320c557190d7a144bdd3  e5f2d52b802189ee658865ca93d83a8f   \n",
       "2  000229ec398224ef6ca0657da4fc703e  c777355d18b72b67abbeef9df44fd0fd   \n",
       "3  00024acbcdf0a6daa1e931b038114c75  7634da152a4610f1595efa32f14722fc   \n",
       "4  00042b26cf59d7ce69dfabb4e55b4fd9  ac6c3623068f30de03045865e4e10089   \n",
       "\n",
       "   total_price product_category_name_english  \n",
       "0        72.19                    cool_stuff  \n",
       "1       259.83                      pet_shop  \n",
       "2       216.87               furniture_decor  \n",
       "3        25.78                     perfumery  \n",
       "4       218.04                  garden_tools  "
      ]
     },
     "execution_count": 25,
     "metadata": {},
     "output_type": "execute_result"
    }
   ],
   "source": [
    "product_all=product_df.merge(cat_translated, how='left', on='product_category_name')\n",
    "product_order_item=order_item.merge(product_all, how='left', on='product_id')\n",
    "product_order_item['total_price']=product_order_item['price']+product_order_item['freight_value']\n",
    "product_order_item_sub =product_order_item[['order_id', 'product_id', 'total_price', 'product_category_name_english']] \n",
    "product_order_item_sub.head()"
   ]
  },
  {
   "cell_type": "code",
   "execution_count": 26,
   "id": "54a6a6fe",
   "metadata": {
    "execution": {
     "iopub.execute_input": "2022-06-07T19:56:59.060012Z",
     "iopub.status.busy": "2022-06-07T19:56:59.058448Z",
     "iopub.status.idle": "2022-06-07T19:56:59.526389Z",
     "shell.execute_reply": "2022-06-07T19:56:59.525360Z"
    },
    "papermill": {
     "duration": 0.493311,
     "end_time": "2022-06-07T19:56:59.529142",
     "exception": false,
     "start_time": "2022-06-07T19:56:59.035831",
     "status": "completed"
    },
    "tags": []
   },
   "outputs": [
    {
     "data": {
      "text/html": [
       "<div>\n",
       "<style scoped>\n",
       "    .dataframe tbody tr th:only-of-type {\n",
       "        vertical-align: middle;\n",
       "    }\n",
       "\n",
       "    .dataframe tbody tr th {\n",
       "        vertical-align: top;\n",
       "    }\n",
       "\n",
       "    .dataframe thead th {\n",
       "        text-align: right;\n",
       "    }\n",
       "</style>\n",
       "<table border=\"1\" class=\"dataframe\">\n",
       "  <thead>\n",
       "    <tr style=\"text-align: right;\">\n",
       "      <th></th>\n",
       "      <th>customer_unique_id</th>\n",
       "      <th>first_payment_month</th>\n",
       "      <th>order_numbers</th>\n",
       "      <th>payment_value</th>\n",
       "      <th>avg_payment</th>\n",
       "      <th>order_cat</th>\n",
       "      <th>order_id</th>\n",
       "      <th>customer_id</th>\n",
       "      <th>product_id</th>\n",
       "      <th>total_price</th>\n",
       "      <th>product_category_name_english</th>\n",
       "    </tr>\n",
       "  </thead>\n",
       "  <tbody>\n",
       "    <tr>\n",
       "      <th>0</th>\n",
       "      <td>0000366f3b9a7992bf8c76cfdf3221e2</td>\n",
       "      <td>2018-05</td>\n",
       "      <td>1</td>\n",
       "      <td>141.90</td>\n",
       "      <td>141.90</td>\n",
       "      <td>1 order</td>\n",
       "      <td>e22acc9c116caa3f2b7121bbb380d08e</td>\n",
       "      <td>fadbb3709178fc513abc1b2670aa1ad2</td>\n",
       "      <td>372645c7439f9661fbbacfd129aa92ec</td>\n",
       "      <td>141.90</td>\n",
       "      <td>bed_bath_table</td>\n",
       "    </tr>\n",
       "    <tr>\n",
       "      <th>1</th>\n",
       "      <td>0000b849f77a49e4a4ce2b2a4ca5be3f</td>\n",
       "      <td>2018-05</td>\n",
       "      <td>1</td>\n",
       "      <td>27.19</td>\n",
       "      <td>27.19</td>\n",
       "      <td>1 order</td>\n",
       "      <td>3594e05a005ac4d06a72673270ef9ec9</td>\n",
       "      <td>4cb282e167ae9234755102258dd52ee8</td>\n",
       "      <td>5099f7000472b634fea8304448d20825</td>\n",
       "      <td>27.19</td>\n",
       "      <td>health_beauty</td>\n",
       "    </tr>\n",
       "    <tr>\n",
       "      <th>2</th>\n",
       "      <td>0000f46a3911fa3c0805444483337064</td>\n",
       "      <td>2017-03</td>\n",
       "      <td>1</td>\n",
       "      <td>86.22</td>\n",
       "      <td>86.22</td>\n",
       "      <td>1 order</td>\n",
       "      <td>b33ec3b699337181488304f362a6b734</td>\n",
       "      <td>9b3932a6253894a02c1df9d19004239f</td>\n",
       "      <td>64b488de448a5324c4134ea39c28a34b</td>\n",
       "      <td>86.22</td>\n",
       "      <td>stationery</td>\n",
       "    </tr>\n",
       "    <tr>\n",
       "      <th>3</th>\n",
       "      <td>0000f6ccb0745a6a4b88665a16c9f078</td>\n",
       "      <td>2017-10</td>\n",
       "      <td>1</td>\n",
       "      <td>43.62</td>\n",
       "      <td>43.62</td>\n",
       "      <td>1 order</td>\n",
       "      <td>41272756ecddd9a9ed0180413cc22fb6</td>\n",
       "      <td>914991f0c02ef0843c0e7010c819d642</td>\n",
       "      <td>2345a354a6f2033609bbf62bf5be9ef6</td>\n",
       "      <td>43.62</td>\n",
       "      <td>telephony</td>\n",
       "    </tr>\n",
       "    <tr>\n",
       "      <th>4</th>\n",
       "      <td>0004aac84e0df4da2b147fca70cf8255</td>\n",
       "      <td>2017-11</td>\n",
       "      <td>1</td>\n",
       "      <td>196.89</td>\n",
       "      <td>196.89</td>\n",
       "      <td>1 order</td>\n",
       "      <td>d957021f1127559cd947b62533f484f7</td>\n",
       "      <td>47227568b10f5f58a524a75507e6992c</td>\n",
       "      <td>c72e18b3fe2739b8d24ebf3102450f37</td>\n",
       "      <td>196.89</td>\n",
       "      <td>telephony</td>\n",
       "    </tr>\n",
       "  </tbody>\n",
       "</table>\n",
       "</div>"
      ],
      "text/plain": [
       "                 customer_unique_id first_payment_month  order_numbers  \\\n",
       "0  0000366f3b9a7992bf8c76cfdf3221e2             2018-05              1   \n",
       "1  0000b849f77a49e4a4ce2b2a4ca5be3f             2018-05              1   \n",
       "2  0000f46a3911fa3c0805444483337064             2017-03              1   \n",
       "3  0000f6ccb0745a6a4b88665a16c9f078             2017-10              1   \n",
       "4  0004aac84e0df4da2b147fca70cf8255             2017-11              1   \n",
       "\n",
       "   payment_value  avg_payment order_cat                          order_id  \\\n",
       "0         141.90       141.90   1 order  e22acc9c116caa3f2b7121bbb380d08e   \n",
       "1          27.19        27.19   1 order  3594e05a005ac4d06a72673270ef9ec9   \n",
       "2          86.22        86.22   1 order  b33ec3b699337181488304f362a6b734   \n",
       "3          43.62        43.62   1 order  41272756ecddd9a9ed0180413cc22fb6   \n",
       "4         196.89       196.89   1 order  d957021f1127559cd947b62533f484f7   \n",
       "\n",
       "                        customer_id                        product_id  \\\n",
       "0  fadbb3709178fc513abc1b2670aa1ad2  372645c7439f9661fbbacfd129aa92ec   \n",
       "1  4cb282e167ae9234755102258dd52ee8  5099f7000472b634fea8304448d20825   \n",
       "2  9b3932a6253894a02c1df9d19004239f  64b488de448a5324c4134ea39c28a34b   \n",
       "3  914991f0c02ef0843c0e7010c819d642  2345a354a6f2033609bbf62bf5be9ef6   \n",
       "4  47227568b10f5f58a524a75507e6992c  c72e18b3fe2739b8d24ebf3102450f37   \n",
       "\n",
       "   total_price product_category_name_english  \n",
       "0       141.90                bed_bath_table  \n",
       "1        27.19                 health_beauty  \n",
       "2        86.22                    stationery  \n",
       "3        43.62                     telephony  \n",
       "4       196.89                     telephony  "
      ]
     },
     "execution_count": 26,
     "metadata": {},
     "output_type": "execute_result"
    }
   ],
   "source": [
    "cust_order_df=order_df.merge(customer_df, how='left', on='customer_id')\n",
    "cust_order_df=cust_order_df[['order_id', 'customer_id', 'customer_unique_id']]\n",
    "cust_order_num_df=cust_order_num.merge(cust_order_df, how='left', on='customer_unique_id' )\n",
    "cust_order_num_item=cust_order_num_df.merge(product_order_item_sub, how='left', on='order_id')\n",
    "cust_order_num_item.head()"
   ]
  },
  {
   "cell_type": "code",
   "execution_count": 27,
   "id": "815c7ab9",
   "metadata": {
    "execution": {
     "iopub.execute_input": "2022-06-07T19:56:59.576030Z",
     "iopub.status.busy": "2022-06-07T19:56:59.575565Z",
     "iopub.status.idle": "2022-06-07T19:56:59.935660Z",
     "shell.execute_reply": "2022-06-07T19:56:59.934634Z"
    },
    "papermill": {
     "duration": 0.38353,
     "end_time": "2022-06-07T19:56:59.938022",
     "exception": false,
     "start_time": "2022-06-07T19:56:59.554492",
     "status": "completed"
    },
    "tags": []
   },
   "outputs": [
    {
     "name": "stdout",
     "output_type": "stream",
     "text": [
      "   product_cnt  order_id  total_price  avg_payment\n",
      "0          1.0     88597   150.667142   151.013675\n",
      "1          2.0      7491   106.126424   210.430633\n",
      "2          3.0      1317    97.676138   288.010332\n",
      "3          4.0       502    97.863586   384.624772\n",
      "4          5.0       203    94.979468   474.497340\n"
     ]
    }
   ],
   "source": [
    "# the number of products in each number of orders\n",
    "total = order_item.groupby('order_id').agg(product_cnt=('product_id', 'count')).reset_index()\n",
    "total.sort_values('product_cnt', ascending=True)\n",
    "\n",
    "payment_item = cust_order_num_item.merge(total, how='left', on='order_id')\n",
    "order_item_table=payment_item.groupby('product_cnt').agg({'order_id':pd.Series.nunique, 'total_price':'mean',\\\n",
    "                                                 'avg_payment':'mean'}).reset_index()\n",
    "print(order_item_table.head())\n",
    "# total_payment=payment_df.merge(total, how='left', on='order_id')\n",
    "# total_payment.sort_values('order_id')\n",
    "# total_payment"
   ]
  },
  {
   "cell_type": "markdown",
   "id": "65157e6b",
   "metadata": {
    "papermill": {
     "duration": 0.020003,
     "end_time": "2022-06-07T19:56:59.979595",
     "exception": false,
     "start_time": "2022-06-07T19:56:59.959592",
     "status": "completed"
    },
    "tags": []
   },
   "source": [
    "# top selling categories"
   ]
  },
  {
   "cell_type": "code",
   "execution_count": 28,
   "id": "0786d0aa",
   "metadata": {
    "execution": {
     "iopub.execute_input": "2022-06-07T19:57:00.021868Z",
     "iopub.status.busy": "2022-06-07T19:57:00.021419Z",
     "iopub.status.idle": "2022-06-07T19:57:00.138175Z",
     "shell.execute_reply": "2022-06-07T19:57:00.136968Z"
    },
    "papermill": {
     "duration": 0.140627,
     "end_time": "2022-06-07T19:57:00.140409",
     "exception": false,
     "start_time": "2022-06-07T19:56:59.999782",
     "status": "completed"
    },
    "tags": []
   },
   "outputs": [
    {
     "data": {
      "text/html": [
       "<div>\n",
       "<style scoped>\n",
       "    .dataframe tbody tr th:only-of-type {\n",
       "        vertical-align: middle;\n",
       "    }\n",
       "\n",
       "    .dataframe tbody tr th {\n",
       "        vertical-align: top;\n",
       "    }\n",
       "\n",
       "    .dataframe thead th {\n",
       "        text-align: right;\n",
       "    }\n",
       "</style>\n",
       "<table border=\"1\" class=\"dataframe\">\n",
       "  <thead>\n",
       "    <tr style=\"text-align: right;\">\n",
       "      <th></th>\n",
       "      <th>order_cat</th>\n",
       "      <th>product_category_name_english</th>\n",
       "      <th>order_id</th>\n",
       "      <th>total_price</th>\n",
       "      <th>avg_payment</th>\n",
       "    </tr>\n",
       "  </thead>\n",
       "  <tbody>\n",
       "    <tr>\n",
       "      <th>0</th>\n",
       "      <td>1 order</td>\n",
       "      <td>agro_industry_and_commerce</td>\n",
       "      <td>176</td>\n",
       "      <td>378.852217</td>\n",
       "      <td>574.333695</td>\n",
       "    </tr>\n",
       "    <tr>\n",
       "      <th>1</th>\n",
       "      <td>1 order</td>\n",
       "      <td>air_conditioning</td>\n",
       "      <td>226</td>\n",
       "      <td>210.546250</td>\n",
       "      <td>311.010530</td>\n",
       "    </tr>\n",
       "    <tr>\n",
       "      <th>2</th>\n",
       "      <td>1 order</td>\n",
       "      <td>art</td>\n",
       "      <td>194</td>\n",
       "      <td>137.086517</td>\n",
       "      <td>150.353532</td>\n",
       "    </tr>\n",
       "    <tr>\n",
       "      <th>3</th>\n",
       "      <td>1 order</td>\n",
       "      <td>arts_and_craftmanship</td>\n",
       "      <td>18</td>\n",
       "      <td>92.422105</td>\n",
       "      <td>99.897368</td>\n",
       "    </tr>\n",
       "    <tr>\n",
       "      <th>4</th>\n",
       "      <td>1 order</td>\n",
       "      <td>audio</td>\n",
       "      <td>331</td>\n",
       "      <td>156.876163</td>\n",
       "      <td>167.828227</td>\n",
       "    </tr>\n",
       "  </tbody>\n",
       "</table>\n",
       "</div>"
      ],
      "text/plain": [
       "  order_cat product_category_name_english  order_id  total_price  avg_payment\n",
       "0   1 order    agro_industry_and_commerce       176   378.852217   574.333695\n",
       "1   1 order              air_conditioning       226   210.546250   311.010530\n",
       "2   1 order                           art       194   137.086517   150.353532\n",
       "3   1 order         arts_and_craftmanship        18    92.422105    99.897368\n",
       "4   1 order                         audio       331   156.876163   167.828227"
      ]
     },
     "execution_count": 28,
     "metadata": {},
     "output_type": "execute_result"
    }
   ],
   "source": [
    "cust_order_num_item_sub=cust_order_num_item.groupby(['order_cat','product_category_name_english'])\\\n",
    "                                            .agg({'order_id':pd.Series.nunique, 'total_price':'mean',\\\n",
    "                                                 'avg_payment':'mean'}).reset_index()\n",
    "cust_order_num_item_sub.columns = ['order_cat', 'product_category_name_english', 'order_id',\\\n",
    "                                   'total_price', 'avg_payment']\n",
    "cust_order_num_item_sub.head()"
   ]
  },
  {
   "cell_type": "code",
   "execution_count": 29,
   "id": "e1a680bf",
   "metadata": {
    "execution": {
     "iopub.execute_input": "2022-06-07T19:57:00.182714Z",
     "iopub.status.busy": "2022-06-07T19:57:00.182337Z",
     "iopub.status.idle": "2022-06-07T19:57:00.258481Z",
     "shell.execute_reply": "2022-06-07T19:57:00.257553Z"
    },
    "papermill": {
     "duration": 0.100682,
     "end_time": "2022-06-07T19:57:00.261343",
     "exception": false,
     "start_time": "2022-06-07T19:57:00.160661",
     "status": "completed"
    },
    "tags": []
   },
   "outputs": [],
   "source": [
    "# creating two pivots to see top cateogries by volume and by dollar amount\n",
    "top_selling_volume = cust_order_num_item.groupby(['product_category_name_english',\\\n",
    "    'order_cat'])['order_id'].count().reset_index()\n",
    "top_selling_dollar = cust_order_num_item.groupby(['product_category_name_english', \\\n",
    "    'order_cat'])['total_price'].sum().reset_index()"
   ]
  },
  {
   "cell_type": "code",
   "execution_count": 30,
   "id": "dd269951",
   "metadata": {
    "execution": {
     "iopub.execute_input": "2022-06-07T19:57:00.303427Z",
     "iopub.status.busy": "2022-06-07T19:57:00.303018Z",
     "iopub.status.idle": "2022-06-07T19:57:00.333853Z",
     "shell.execute_reply": "2022-06-07T19:57:00.332939Z"
    },
    "papermill": {
     "duration": 0.054509,
     "end_time": "2022-06-07T19:57:00.336175",
     "exception": false,
     "start_time": "2022-06-07T19:57:00.281666",
     "status": "completed"
    },
    "tags": []
   },
   "outputs": [
    {
     "data": {
      "text/html": [
       "<div>\n",
       "<style scoped>\n",
       "    .dataframe tbody tr th:only-of-type {\n",
       "        vertical-align: middle;\n",
       "    }\n",
       "\n",
       "    .dataframe tbody tr th {\n",
       "        vertical-align: top;\n",
       "    }\n",
       "\n",
       "    .dataframe thead th {\n",
       "        text-align: right;\n",
       "    }\n",
       "</style>\n",
       "<table border=\"1\" class=\"dataframe\">\n",
       "  <thead>\n",
       "    <tr style=\"text-align: right;\">\n",
       "      <th>order_cat</th>\n",
       "      <th>1 order</th>\n",
       "      <th>2 orders</th>\n",
       "      <th>3 orders</th>\n",
       "      <th>4 orders</th>\n",
       "      <th>5 orders</th>\n",
       "      <th>&gt; 5 orders</th>\n",
       "    </tr>\n",
       "    <tr>\n",
       "      <th>product_category_name_english</th>\n",
       "      <th></th>\n",
       "      <th></th>\n",
       "      <th></th>\n",
       "      <th></th>\n",
       "      <th></th>\n",
       "      <th></th>\n",
       "    </tr>\n",
       "  </thead>\n",
       "  <tbody>\n",
       "    <tr>\n",
       "      <th>agro_industry_and_commerce</th>\n",
       "      <td>76907.00</td>\n",
       "      <td>1467.07</td>\n",
       "      <td>NaN</td>\n",
       "      <td>NaN</td>\n",
       "      <td>NaN</td>\n",
       "      <td>NaN</td>\n",
       "    </tr>\n",
       "    <tr>\n",
       "      <th>air_conditioning</th>\n",
       "      <td>55584.21</td>\n",
       "      <td>3926.03</td>\n",
       "      <td>257.92</td>\n",
       "      <td>NaN</td>\n",
       "      <td>101.12</td>\n",
       "      <td>NaN</td>\n",
       "    </tr>\n",
       "    <tr>\n",
       "      <th>art</th>\n",
       "      <td>27554.39</td>\n",
       "      <td>616.63</td>\n",
       "      <td>76.79</td>\n",
       "      <td>NaN</td>\n",
       "      <td>NaN</td>\n",
       "      <td>NaN</td>\n",
       "    </tr>\n",
       "    <tr>\n",
       "      <th>arts_and_craftmanship</th>\n",
       "      <td>1756.02</td>\n",
       "      <td>282.56</td>\n",
       "      <td>NaN</td>\n",
       "      <td>NaN</td>\n",
       "      <td>145.56</td>\n",
       "      <td>NaN</td>\n",
       "    </tr>\n",
       "    <tr>\n",
       "      <th>audio</th>\n",
       "      <td>53965.40</td>\n",
       "      <td>2081.58</td>\n",
       "      <td>31.75</td>\n",
       "      <td>NaN</td>\n",
       "      <td>137.18</td>\n",
       "      <td>NaN</td>\n",
       "    </tr>\n",
       "    <tr>\n",
       "      <th>...</th>\n",
       "      <td>...</td>\n",
       "      <td>...</td>\n",
       "      <td>...</td>\n",
       "      <td>...</td>\n",
       "      <td>...</td>\n",
       "      <td>...</td>\n",
       "    </tr>\n",
       "    <tr>\n",
       "      <th>stationery</th>\n",
       "      <td>266693.96</td>\n",
       "      <td>10319.71</td>\n",
       "      <td>533.18</td>\n",
       "      <td>142.71</td>\n",
       "      <td>NaN</td>\n",
       "      <td>52.15</td>\n",
       "    </tr>\n",
       "    <tr>\n",
       "      <th>tablets_printing_image</th>\n",
       "      <td>8462.52</td>\n",
       "      <td>170.65</td>\n",
       "      <td>60.72</td>\n",
       "      <td>NaN</td>\n",
       "      <td>NaN</td>\n",
       "      <td>60.72</td>\n",
       "    </tr>\n",
       "    <tr>\n",
       "      <th>telephony</th>\n",
       "      <td>376374.57</td>\n",
       "      <td>12405.15</td>\n",
       "      <td>659.37</td>\n",
       "      <td>4735.19</td>\n",
       "      <td>NaN</td>\n",
       "      <td>NaN</td>\n",
       "    </tr>\n",
       "    <tr>\n",
       "      <th>toys</th>\n",
       "      <td>530029.91</td>\n",
       "      <td>20988.71</td>\n",
       "      <td>3529.01</td>\n",
       "      <td>1444.89</td>\n",
       "      <td>NaN</td>\n",
       "      <td>455.01</td>\n",
       "    </tr>\n",
       "    <tr>\n",
       "      <th>watches_gifts</th>\n",
       "      <td>1241833.59</td>\n",
       "      <td>48651.47</td>\n",
       "      <td>6557.22</td>\n",
       "      <td>3223.09</td>\n",
       "      <td>1388.53</td>\n",
       "      <td>465.13</td>\n",
       "    </tr>\n",
       "  </tbody>\n",
       "</table>\n",
       "<p>71 rows × 6 columns</p>\n",
       "</div>"
      ],
      "text/plain": [
       "order_cat                         1 order  2 orders  3 orders  4 orders  \\\n",
       "product_category_name_english                                             \n",
       "agro_industry_and_commerce       76907.00   1467.07       NaN       NaN   \n",
       "air_conditioning                 55584.21   3926.03    257.92       NaN   \n",
       "art                              27554.39    616.63     76.79       NaN   \n",
       "arts_and_craftmanship             1756.02    282.56       NaN       NaN   \n",
       "audio                            53965.40   2081.58     31.75       NaN   \n",
       "...                                   ...       ...       ...       ...   \n",
       "stationery                      266693.96  10319.71    533.18    142.71   \n",
       "tablets_printing_image            8462.52    170.65     60.72       NaN   \n",
       "telephony                       376374.57  12405.15    659.37   4735.19   \n",
       "toys                            530029.91  20988.71   3529.01   1444.89   \n",
       "watches_gifts                  1241833.59  48651.47   6557.22   3223.09   \n",
       "\n",
       "order_cat                      5 orders  > 5 orders  \n",
       "product_category_name_english                        \n",
       "agro_industry_and_commerce          NaN         NaN  \n",
       "air_conditioning                 101.12         NaN  \n",
       "art                                 NaN         NaN  \n",
       "arts_and_craftmanship            145.56         NaN  \n",
       "audio                            137.18         NaN  \n",
       "...                                 ...         ...  \n",
       "stationery                          NaN       52.15  \n",
       "tablets_printing_image              NaN       60.72  \n",
       "telephony                           NaN         NaN  \n",
       "toys                                NaN      455.01  \n",
       "watches_gifts                   1388.53      465.13  \n",
       "\n",
       "[71 rows x 6 columns]"
      ]
     },
     "execution_count": 30,
     "metadata": {},
     "output_type": "execute_result"
    }
   ],
   "source": [
    "top_selling_dollar_pivot = pd.pivot_table(top_selling_dollar, \\\n",
    "                                          index= 'product_category_name_english', columns='order_cat', \\\n",
    "                                          values=\"total_price\")\n",
    "top_selling_dollar_pivot"
   ]
  },
  {
   "cell_type": "code",
   "execution_count": 31,
   "id": "6291d7e2",
   "metadata": {
    "execution": {
     "iopub.execute_input": "2022-06-07T19:57:00.378591Z",
     "iopub.status.busy": "2022-06-07T19:57:00.378169Z",
     "iopub.status.idle": "2022-06-07T19:57:00.409912Z",
     "shell.execute_reply": "2022-06-07T19:57:00.408954Z"
    },
    "papermill": {
     "duration": 0.055905,
     "end_time": "2022-06-07T19:57:00.412552",
     "exception": false,
     "start_time": "2022-06-07T19:57:00.356647",
     "status": "completed"
    },
    "tags": []
   },
   "outputs": [
    {
     "data": {
      "text/html": [
       "<div>\n",
       "<style scoped>\n",
       "    .dataframe tbody tr th:only-of-type {\n",
       "        vertical-align: middle;\n",
       "    }\n",
       "\n",
       "    .dataframe tbody tr th {\n",
       "        vertical-align: top;\n",
       "    }\n",
       "\n",
       "    .dataframe thead th {\n",
       "        text-align: right;\n",
       "    }\n",
       "</style>\n",
       "<table border=\"1\" class=\"dataframe\">\n",
       "  <thead>\n",
       "    <tr style=\"text-align: right;\">\n",
       "      <th>order_cat</th>\n",
       "      <th>1 order</th>\n",
       "      <th>2 orders</th>\n",
       "      <th>3 orders</th>\n",
       "      <th>4 orders</th>\n",
       "      <th>5 orders</th>\n",
       "      <th>&gt; 5 orders</th>\n",
       "    </tr>\n",
       "    <tr>\n",
       "      <th>product_category_name_english</th>\n",
       "      <th></th>\n",
       "      <th></th>\n",
       "      <th></th>\n",
       "      <th></th>\n",
       "      <th></th>\n",
       "      <th></th>\n",
       "    </tr>\n",
       "  </thead>\n",
       "  <tbody>\n",
       "    <tr>\n",
       "      <th>agro_industry_and_commerce</th>\n",
       "      <td>203.0</td>\n",
       "      <td>9.0</td>\n",
       "      <td>NaN</td>\n",
       "      <td>NaN</td>\n",
       "      <td>NaN</td>\n",
       "      <td>NaN</td>\n",
       "    </tr>\n",
       "    <tr>\n",
       "      <th>air_conditioning</th>\n",
       "      <td>264.0</td>\n",
       "      <td>21.0</td>\n",
       "      <td>1.0</td>\n",
       "      <td>NaN</td>\n",
       "      <td>1.0</td>\n",
       "      <td>NaN</td>\n",
       "    </tr>\n",
       "    <tr>\n",
       "      <th>art</th>\n",
       "      <td>201.0</td>\n",
       "      <td>7.0</td>\n",
       "      <td>1.0</td>\n",
       "      <td>NaN</td>\n",
       "      <td>NaN</td>\n",
       "      <td>NaN</td>\n",
       "    </tr>\n",
       "    <tr>\n",
       "      <th>arts_and_craftmanship</th>\n",
       "      <td>19.0</td>\n",
       "      <td>4.0</td>\n",
       "      <td>NaN</td>\n",
       "      <td>NaN</td>\n",
       "      <td>1.0</td>\n",
       "      <td>NaN</td>\n",
       "    </tr>\n",
       "    <tr>\n",
       "      <th>audio</th>\n",
       "      <td>344.0</td>\n",
       "      <td>16.0</td>\n",
       "      <td>1.0</td>\n",
       "      <td>NaN</td>\n",
       "      <td>1.0</td>\n",
       "      <td>NaN</td>\n",
       "    </tr>\n",
       "    <tr>\n",
       "      <th>...</th>\n",
       "      <td>...</td>\n",
       "      <td>...</td>\n",
       "      <td>...</td>\n",
       "      <td>...</td>\n",
       "      <td>...</td>\n",
       "      <td>...</td>\n",
       "    </tr>\n",
       "    <tr>\n",
       "      <th>stationery</th>\n",
       "      <td>2403.0</td>\n",
       "      <td>103.0</td>\n",
       "      <td>6.0</td>\n",
       "      <td>4.0</td>\n",
       "      <td>NaN</td>\n",
       "      <td>1.0</td>\n",
       "    </tr>\n",
       "    <tr>\n",
       "      <th>tablets_printing_image</th>\n",
       "      <td>79.0</td>\n",
       "      <td>2.0</td>\n",
       "      <td>1.0</td>\n",
       "      <td>NaN</td>\n",
       "      <td>NaN</td>\n",
       "      <td>1.0</td>\n",
       "    </tr>\n",
       "    <tr>\n",
       "      <th>telephony</th>\n",
       "      <td>4304.0</td>\n",
       "      <td>188.0</td>\n",
       "      <td>16.0</td>\n",
       "      <td>26.0</td>\n",
       "      <td>NaN</td>\n",
       "      <td>NaN</td>\n",
       "    </tr>\n",
       "    <tr>\n",
       "      <th>toys</th>\n",
       "      <td>3877.0</td>\n",
       "      <td>174.0</td>\n",
       "      <td>21.0</td>\n",
       "      <td>15.0</td>\n",
       "      <td>NaN</td>\n",
       "      <td>4.0</td>\n",
       "    </tr>\n",
       "    <tr>\n",
       "      <th>watches_gifts</th>\n",
       "      <td>5663.0</td>\n",
       "      <td>261.0</td>\n",
       "      <td>39.0</td>\n",
       "      <td>10.0</td>\n",
       "      <td>7.0</td>\n",
       "      <td>7.0</td>\n",
       "    </tr>\n",
       "  </tbody>\n",
       "</table>\n",
       "<p>71 rows × 6 columns</p>\n",
       "</div>"
      ],
      "text/plain": [
       "order_cat                      1 order  2 orders  3 orders  4 orders  \\\n",
       "product_category_name_english                                          \n",
       "agro_industry_and_commerce       203.0       9.0       NaN       NaN   \n",
       "air_conditioning                 264.0      21.0       1.0       NaN   \n",
       "art                              201.0       7.0       1.0       NaN   \n",
       "arts_and_craftmanship             19.0       4.0       NaN       NaN   \n",
       "audio                            344.0      16.0       1.0       NaN   \n",
       "...                                ...       ...       ...       ...   \n",
       "stationery                      2403.0     103.0       6.0       4.0   \n",
       "tablets_printing_image            79.0       2.0       1.0       NaN   \n",
       "telephony                       4304.0     188.0      16.0      26.0   \n",
       "toys                            3877.0     174.0      21.0      15.0   \n",
       "watches_gifts                   5663.0     261.0      39.0      10.0   \n",
       "\n",
       "order_cat                      5 orders  > 5 orders  \n",
       "product_category_name_english                        \n",
       "agro_industry_and_commerce          NaN         NaN  \n",
       "air_conditioning                    1.0         NaN  \n",
       "art                                 NaN         NaN  \n",
       "arts_and_craftmanship               1.0         NaN  \n",
       "audio                               1.0         NaN  \n",
       "...                                 ...         ...  \n",
       "stationery                          NaN         1.0  \n",
       "tablets_printing_image              NaN         1.0  \n",
       "telephony                           NaN         NaN  \n",
       "toys                                NaN         4.0  \n",
       "watches_gifts                       7.0         7.0  \n",
       "\n",
       "[71 rows x 6 columns]"
      ]
     },
     "execution_count": 31,
     "metadata": {},
     "output_type": "execute_result"
    }
   ],
   "source": [
    "top_selling_volume_pivot = pd.pivot_table(top_selling_volume, \\\n",
    "                                          index= 'product_category_name_english', columns='order_cat', \\\n",
    "                                          values=\"order_id\")\n",
    "top_selling_volume_pivot"
   ]
  },
  {
   "cell_type": "markdown",
   "id": "a1806f8f",
   "metadata": {
    "papermill": {
     "duration": 0.028983,
     "end_time": "2022-06-07T19:57:00.465624",
     "exception": false,
     "start_time": "2022-06-07T19:57:00.436641",
     "status": "completed"
    },
    "tags": []
   },
   "source": [
    "# Customer satisfaction overall + per product cateogry\n"
   ]
  },
  {
   "cell_type": "code",
   "execution_count": 32,
   "id": "90a8036b",
   "metadata": {
    "execution": {
     "iopub.execute_input": "2022-06-07T19:57:00.527238Z",
     "iopub.status.busy": "2022-06-07T19:57:00.526315Z",
     "iopub.status.idle": "2022-06-07T19:57:00.914372Z",
     "shell.execute_reply": "2022-06-07T19:57:00.913674Z"
    },
    "papermill": {
     "duration": 0.419987,
     "end_time": "2022-06-07T19:57:00.916334",
     "exception": false,
     "start_time": "2022-06-07T19:57:00.496347",
     "status": "completed"
    },
    "tags": []
   },
   "outputs": [
    {
     "data": {
      "text/html": [
       "<div>\n",
       "<style scoped>\n",
       "    .dataframe tbody tr th:only-of-type {\n",
       "        vertical-align: middle;\n",
       "    }\n",
       "\n",
       "    .dataframe tbody tr th {\n",
       "        vertical-align: top;\n",
       "    }\n",
       "\n",
       "    .dataframe thead tr th {\n",
       "        text-align: left;\n",
       "    }\n",
       "</style>\n",
       "<table border=\"1\" class=\"dataframe\">\n",
       "  <thead>\n",
       "    <tr>\n",
       "      <th></th>\n",
       "      <th>product_category_name_english</th>\n",
       "      <th colspan=\"4\" halign=\"left\">review_score</th>\n",
       "      <th>order_id</th>\n",
       "    </tr>\n",
       "    <tr>\n",
       "      <th></th>\n",
       "      <th></th>\n",
       "      <th>mean</th>\n",
       "      <th>median</th>\n",
       "      <th>count</th>\n",
       "      <th>std</th>\n",
       "      <th>nunique</th>\n",
       "    </tr>\n",
       "  </thead>\n",
       "  <tbody>\n",
       "    <tr>\n",
       "      <th>0</th>\n",
       "      <td>agro_industry_and_commerce</td>\n",
       "      <td>4.000000</td>\n",
       "      <td>5.0</td>\n",
       "      <td>212</td>\n",
       "      <td>1.363019</td>\n",
       "      <td>182</td>\n",
       "    </tr>\n",
       "    <tr>\n",
       "      <th>1</th>\n",
       "      <td>air_conditioning</td>\n",
       "      <td>3.975177</td>\n",
       "      <td>5.0</td>\n",
       "      <td>282</td>\n",
       "      <td>1.437706</td>\n",
       "      <td>244</td>\n",
       "    </tr>\n",
       "    <tr>\n",
       "      <th>2</th>\n",
       "      <td>art</td>\n",
       "      <td>3.937198</td>\n",
       "      <td>5.0</td>\n",
       "      <td>207</td>\n",
       "      <td>1.455127</td>\n",
       "      <td>200</td>\n",
       "    </tr>\n",
       "    <tr>\n",
       "      <th>3</th>\n",
       "      <td>arts_and_craftmanship</td>\n",
       "      <td>4.125000</td>\n",
       "      <td>5.0</td>\n",
       "      <td>24</td>\n",
       "      <td>1.392917</td>\n",
       "      <td>23</td>\n",
       "    </tr>\n",
       "    <tr>\n",
       "      <th>4</th>\n",
       "      <td>audio</td>\n",
       "      <td>3.818942</td>\n",
       "      <td>5.0</td>\n",
       "      <td>359</td>\n",
       "      <td>1.520099</td>\n",
       "      <td>345</td>\n",
       "    </tr>\n",
       "  </tbody>\n",
       "</table>\n",
       "</div>"
      ],
      "text/plain": [
       "  product_category_name_english review_score                        order_id\n",
       "                                        mean median count       std  nunique\n",
       "0    agro_industry_and_commerce     4.000000    5.0   212  1.363019      182\n",
       "1              air_conditioning     3.975177    5.0   282  1.437706      244\n",
       "2                           art     3.937198    5.0   207  1.455127      200\n",
       "3         arts_and_craftmanship     4.125000    5.0    24  1.392917       23\n",
       "4                         audio     3.818942    5.0   359  1.520099      345"
      ]
     },
     "execution_count": 32,
     "metadata": {},
     "output_type": "execute_result"
    }
   ],
   "source": [
    "review_cust_item=order_review.merge(cust_order_num_item, how='left', on='order_id')\n",
    "review_product_score=review_cust_item.groupby('product_category_name_english')\\\n",
    ".agg({'review_score':['mean', 'median', 'count', np.std], 'order_id': pd.Series.nunique}).reset_index()\n",
    "review_product_score.head()"
   ]
  },
  {
   "cell_type": "code",
   "execution_count": 33,
   "id": "7cfe1e6a",
   "metadata": {
    "execution": {
     "iopub.execute_input": "2022-06-07T19:57:00.963380Z",
     "iopub.status.busy": "2022-06-07T19:57:00.962950Z",
     "iopub.status.idle": "2022-06-07T19:57:01.048528Z",
     "shell.execute_reply": "2022-06-07T19:57:01.047248Z"
    },
    "papermill": {
     "duration": 0.112449,
     "end_time": "2022-06-07T19:57:01.051105",
     "exception": false,
     "start_time": "2022-06-07T19:57:00.938656",
     "status": "completed"
    },
    "tags": []
   },
   "outputs": [
    {
     "data": {
      "text/html": [
       "<div>\n",
       "<style scoped>\n",
       "    .dataframe tbody tr th:only-of-type {\n",
       "        vertical-align: middle;\n",
       "    }\n",
       "\n",
       "    .dataframe tbody tr th {\n",
       "        vertical-align: top;\n",
       "    }\n",
       "\n",
       "    .dataframe thead th {\n",
       "        text-align: right;\n",
       "    }\n",
       "</style>\n",
       "<table border=\"1\" class=\"dataframe\">\n",
       "  <thead>\n",
       "    <tr style=\"text-align: right;\">\n",
       "      <th></th>\n",
       "      <th>review_score</th>\n",
       "      <th>total_price</th>\n",
       "      <th>avg_payment</th>\n",
       "      <th>order_id</th>\n",
       "    </tr>\n",
       "    <tr>\n",
       "      <th>first_payment_month</th>\n",
       "      <th></th>\n",
       "      <th></th>\n",
       "      <th></th>\n",
       "      <th></th>\n",
       "    </tr>\n",
       "  </thead>\n",
       "  <tbody>\n",
       "    <tr>\n",
       "      <th>2017-01</th>\n",
       "      <td>4.038652</td>\n",
       "      <td>140.890653</td>\n",
       "      <td>190.188095</td>\n",
       "      <td>828</td>\n",
       "    </tr>\n",
       "    <tr>\n",
       "      <th>2017-02</th>\n",
       "      <td>3.998544</td>\n",
       "      <td>145.558213</td>\n",
       "      <td>173.543121</td>\n",
       "      <td>1821</td>\n",
       "    </tr>\n",
       "    <tr>\n",
       "      <th>2017-03</th>\n",
       "      <td>4.039924</td>\n",
       "      <td>142.354904</td>\n",
       "      <td>176.160577</td>\n",
       "      <td>2766</td>\n",
       "    </tr>\n",
       "    <tr>\n",
       "      <th>2017-04</th>\n",
       "      <td>4.006501</td>\n",
       "      <td>153.766959</td>\n",
       "      <td>189.453009</td>\n",
       "      <td>2456</td>\n",
       "    </tr>\n",
       "    <tr>\n",
       "      <th>2017-05</th>\n",
       "      <td>4.120567</td>\n",
       "      <td>139.367692</td>\n",
       "      <td>173.049683</td>\n",
       "      <td>3809</td>\n",
       "    </tr>\n",
       "    <tr>\n",
       "      <th>2017-06</th>\n",
       "      <td>4.117173</td>\n",
       "      <td>140.403950</td>\n",
       "      <td>169.942717</td>\n",
       "      <td>3297</td>\n",
       "    </tr>\n",
       "    <tr>\n",
       "      <th>2017-07</th>\n",
       "      <td>4.112776</td>\n",
       "      <td>128.134943</td>\n",
       "      <td>160.212333</td>\n",
       "      <td>4073</td>\n",
       "    </tr>\n",
       "    <tr>\n",
       "      <th>2017-08</th>\n",
       "      <td>4.203484</td>\n",
       "      <td>135.353865</td>\n",
       "      <td>167.810554</td>\n",
       "      <td>4384</td>\n",
       "    </tr>\n",
       "    <tr>\n",
       "      <th>2017-09</th>\n",
       "      <td>4.119935</td>\n",
       "      <td>147.686879</td>\n",
       "      <td>208.727441</td>\n",
       "      <td>4323</td>\n",
       "    </tr>\n",
       "    <tr>\n",
       "      <th>2017-10</th>\n",
       "      <td>4.029754</td>\n",
       "      <td>143.959018</td>\n",
       "      <td>190.442986</td>\n",
       "      <td>4623</td>\n",
       "    </tr>\n",
       "    <tr>\n",
       "      <th>2017-11</th>\n",
       "      <td>3.825516</td>\n",
       "      <td>136.321075</td>\n",
       "      <td>181.530943</td>\n",
       "      <td>7500</td>\n",
       "    </tr>\n",
       "    <tr>\n",
       "      <th>2017-12</th>\n",
       "      <td>3.944825</td>\n",
       "      <td>136.569822</td>\n",
       "      <td>165.224823</td>\n",
       "      <td>5587</td>\n",
       "    </tr>\n",
       "    <tr>\n",
       "      <th>2018-01</th>\n",
       "      <td>3.936666</td>\n",
       "      <td>134.188053</td>\n",
       "      <td>170.599569</td>\n",
       "      <td>7191</td>\n",
       "    </tr>\n",
       "    <tr>\n",
       "      <th>2018-02</th>\n",
       "      <td>3.737639</td>\n",
       "      <td>128.892703</td>\n",
       "      <td>168.506548</td>\n",
       "      <td>6663</td>\n",
       "    </tr>\n",
       "    <tr>\n",
       "      <th>2018-03</th>\n",
       "      <td>3.693511</td>\n",
       "      <td>140.812387</td>\n",
       "      <td>178.573844</td>\n",
       "      <td>7094</td>\n",
       "    </tr>\n",
       "    <tr>\n",
       "      <th>2018-04</th>\n",
       "      <td>4.075554</td>\n",
       "      <td>145.855785</td>\n",
       "      <td>186.551801</td>\n",
       "      <td>6798</td>\n",
       "    </tr>\n",
       "    <tr>\n",
       "      <th>2018-05</th>\n",
       "      <td>4.121395</td>\n",
       "      <td>145.483938</td>\n",
       "      <td>190.524408</td>\n",
       "      <td>6713</td>\n",
       "    </tr>\n",
       "    <tr>\n",
       "      <th>2018-06</th>\n",
       "      <td>4.180626</td>\n",
       "      <td>145.154388</td>\n",
       "      <td>183.509144</td>\n",
       "      <td>5993</td>\n",
       "    </tr>\n",
       "    <tr>\n",
       "      <th>2018-07</th>\n",
       "      <td>4.214626</td>\n",
       "      <td>148.929535</td>\n",
       "      <td>190.836505</td>\n",
       "      <td>6135</td>\n",
       "    </tr>\n",
       "    <tr>\n",
       "      <th>2018-08</th>\n",
       "      <td>4.190975</td>\n",
       "      <td>138.919571</td>\n",
       "      <td>170.531869</td>\n",
       "      <td>6300</td>\n",
       "    </tr>\n",
       "  </tbody>\n",
       "</table>\n",
       "</div>"
      ],
      "text/plain": [
       "                     review_score  total_price  avg_payment  order_id\n",
       "first_payment_month                                                  \n",
       "2017-01                  4.038652   140.890653   190.188095       828\n",
       "2017-02                  3.998544   145.558213   173.543121      1821\n",
       "2017-03                  4.039924   142.354904   176.160577      2766\n",
       "2017-04                  4.006501   153.766959   189.453009      2456\n",
       "2017-05                  4.120567   139.367692   173.049683      3809\n",
       "2017-06                  4.117173   140.403950   169.942717      3297\n",
       "2017-07                  4.112776   128.134943   160.212333      4073\n",
       "2017-08                  4.203484   135.353865   167.810554      4384\n",
       "2017-09                  4.119935   147.686879   208.727441      4323\n",
       "2017-10                  4.029754   143.959018   190.442986      4623\n",
       "2017-11                  3.825516   136.321075   181.530943      7500\n",
       "2017-12                  3.944825   136.569822   165.224823      5587\n",
       "2018-01                  3.936666   134.188053   170.599569      7191\n",
       "2018-02                  3.737639   128.892703   168.506548      6663\n",
       "2018-03                  3.693511   140.812387   178.573844      7094\n",
       "2018-04                  4.075554   145.855785   186.551801      6798\n",
       "2018-05                  4.121395   145.483938   190.524408      6713\n",
       "2018-06                  4.180626   145.154388   183.509144      5993\n",
       "2018-07                  4.214626   148.929535   190.836505      6135\n",
       "2018-08                  4.190975   138.919571   170.531869      6300"
      ]
     },
     "execution_count": 33,
     "metadata": {},
     "output_type": "execute_result"
    }
   ],
   "source": [
    "# creating a pviot to see review scores for customer's first purchase\n",
    "review_cust_item.groupby(['first_payment_month'])\\\n",
    "                .agg({'review_score':'mean', 'total_price':'mean','avg_payment':'mean',\\\n",
    "                      'order_id':pd.Series.nunique})"
   ]
  },
  {
   "cell_type": "code",
   "execution_count": 34,
   "id": "9466c783",
   "metadata": {
    "execution": {
     "iopub.execute_input": "2022-06-07T19:57:01.099445Z",
     "iopub.status.busy": "2022-06-07T19:57:01.099069Z",
     "iopub.status.idle": "2022-06-07T19:57:01.106359Z",
     "shell.execute_reply": "2022-06-07T19:57:01.105225Z"
    },
    "papermill": {
     "duration": 0.034342,
     "end_time": "2022-06-07T19:57:01.108629",
     "exception": false,
     "start_time": "2022-06-07T19:57:01.074287",
     "status": "completed"
    },
    "tags": []
   },
   "outputs": [
    {
     "data": {
      "text/plain": [
       "4.017519810386302"
      ]
     },
     "execution_count": 34,
     "metadata": {},
     "output_type": "execute_result"
    }
   ],
   "source": [
    "# getting the mean score\n",
    "review_cust_item['review_score'].mean()"
   ]
  },
  {
   "cell_type": "code",
   "execution_count": null,
   "id": "c1facc73",
   "metadata": {
    "papermill": {
     "duration": 0.023157,
     "end_time": "2022-06-07T19:57:01.154658",
     "exception": false,
     "start_time": "2022-06-07T19:57:01.131501",
     "status": "completed"
    },
    "tags": []
   },
   "outputs": [],
   "source": []
  },
  {
   "cell_type": "markdown",
   "id": "1c422a0c",
   "metadata": {
    "papermill": {
     "duration": 0.023033,
     "end_time": "2022-06-07T19:57:01.201611",
     "exception": false,
     "start_time": "2022-06-07T19:57:01.178578",
     "status": "completed"
    },
    "tags": []
   },
   "source": [
    "# Guideline from the example"
   ]
  },
  {
   "cell_type": "code",
   "execution_count": 35,
   "id": "2a47a03a",
   "metadata": {
    "execution": {
     "iopub.execute_input": "2022-06-07T19:57:01.250994Z",
     "iopub.status.busy": "2022-06-07T19:57:01.250044Z",
     "iopub.status.idle": "2022-06-07T19:57:01.750777Z",
     "shell.execute_reply": "2022-06-07T19:57:01.749703Z"
    },
    "papermill": {
     "duration": 0.528541,
     "end_time": "2022-06-07T19:57:01.753670",
     "exception": false,
     "start_time": "2022-06-07T19:57:01.225129",
     "status": "completed"
    },
    "tags": []
   },
   "outputs": [
    {
     "name": "stdout",
     "output_type": "stream",
     "text": [
      "99441\n",
      "99992\n",
      "104478\n"
     ]
    },
    {
     "data": {
      "text/html": [
       "<div>\n",
       "<style scoped>\n",
       "    .dataframe tbody tr th:only-of-type {\n",
       "        vertical-align: middle;\n",
       "    }\n",
       "\n",
       "    .dataframe tbody tr th {\n",
       "        vertical-align: top;\n",
       "    }\n",
       "\n",
       "    .dataframe thead th {\n",
       "        text-align: right;\n",
       "    }\n",
       "</style>\n",
       "<table border=\"1\" class=\"dataframe\">\n",
       "  <thead>\n",
       "    <tr style=\"text-align: right;\">\n",
       "      <th></th>\n",
       "      <th>order_id</th>\n",
       "      <th>customer_id</th>\n",
       "      <th>order_status</th>\n",
       "      <th>order_purchase_timestamp</th>\n",
       "      <th>order_approved_at</th>\n",
       "      <th>order_delivered_carrier_date</th>\n",
       "      <th>order_delivered_customer_date</th>\n",
       "      <th>order_estimated_delivery_date</th>\n",
       "      <th>customer_unique_id</th>\n",
       "      <th>customer_zip_code_prefix</th>\n",
       "      <th>...</th>\n",
       "      <th>review_id</th>\n",
       "      <th>review_score</th>\n",
       "      <th>review_comment_title</th>\n",
       "      <th>review_comment_message</th>\n",
       "      <th>review_creation_date</th>\n",
       "      <th>review_answer_timestamp</th>\n",
       "      <th>payment_sequential</th>\n",
       "      <th>payment_type</th>\n",
       "      <th>payment_installments</th>\n",
       "      <th>payment_value</th>\n",
       "    </tr>\n",
       "  </thead>\n",
       "  <tbody>\n",
       "    <tr>\n",
       "      <th>0</th>\n",
       "      <td>e481f51cbdc54678b7cc49136f2d6af7</td>\n",
       "      <td>9ef432eb6251297304e76186b10a928d</td>\n",
       "      <td>delivered</td>\n",
       "      <td>2017-10-02 10:56:33</td>\n",
       "      <td>2017-10-02 11:07:15</td>\n",
       "      <td>2017-10-04 19:55:00</td>\n",
       "      <td>2017-10-10 21:25:13</td>\n",
       "      <td>2017-10-18 00:00:00</td>\n",
       "      <td>7c396fd4830fd04220f754e42b4e5bff</td>\n",
       "      <td>3149</td>\n",
       "      <td>...</td>\n",
       "      <td>a54f0611adc9ed256b57ede6b6eb5114</td>\n",
       "      <td>4.0</td>\n",
       "      <td>NaN</td>\n",
       "      <td>Não testei o produto ainda, mas ele veio corre...</td>\n",
       "      <td>2017-10-11 00:00:00</td>\n",
       "      <td>2017-10-12 03:43:48</td>\n",
       "      <td>1.0</td>\n",
       "      <td>credit_card</td>\n",
       "      <td>1.0</td>\n",
       "      <td>18.12</td>\n",
       "    </tr>\n",
       "    <tr>\n",
       "      <th>1</th>\n",
       "      <td>e481f51cbdc54678b7cc49136f2d6af7</td>\n",
       "      <td>9ef432eb6251297304e76186b10a928d</td>\n",
       "      <td>delivered</td>\n",
       "      <td>2017-10-02 10:56:33</td>\n",
       "      <td>2017-10-02 11:07:15</td>\n",
       "      <td>2017-10-04 19:55:00</td>\n",
       "      <td>2017-10-10 21:25:13</td>\n",
       "      <td>2017-10-18 00:00:00</td>\n",
       "      <td>7c396fd4830fd04220f754e42b4e5bff</td>\n",
       "      <td>3149</td>\n",
       "      <td>...</td>\n",
       "      <td>a54f0611adc9ed256b57ede6b6eb5114</td>\n",
       "      <td>4.0</td>\n",
       "      <td>NaN</td>\n",
       "      <td>Não testei o produto ainda, mas ele veio corre...</td>\n",
       "      <td>2017-10-11 00:00:00</td>\n",
       "      <td>2017-10-12 03:43:48</td>\n",
       "      <td>3.0</td>\n",
       "      <td>voucher</td>\n",
       "      <td>1.0</td>\n",
       "      <td>2.00</td>\n",
       "    </tr>\n",
       "    <tr>\n",
       "      <th>2</th>\n",
       "      <td>e481f51cbdc54678b7cc49136f2d6af7</td>\n",
       "      <td>9ef432eb6251297304e76186b10a928d</td>\n",
       "      <td>delivered</td>\n",
       "      <td>2017-10-02 10:56:33</td>\n",
       "      <td>2017-10-02 11:07:15</td>\n",
       "      <td>2017-10-04 19:55:00</td>\n",
       "      <td>2017-10-10 21:25:13</td>\n",
       "      <td>2017-10-18 00:00:00</td>\n",
       "      <td>7c396fd4830fd04220f754e42b4e5bff</td>\n",
       "      <td>3149</td>\n",
       "      <td>...</td>\n",
       "      <td>a54f0611adc9ed256b57ede6b6eb5114</td>\n",
       "      <td>4.0</td>\n",
       "      <td>NaN</td>\n",
       "      <td>Não testei o produto ainda, mas ele veio corre...</td>\n",
       "      <td>2017-10-11 00:00:00</td>\n",
       "      <td>2017-10-12 03:43:48</td>\n",
       "      <td>2.0</td>\n",
       "      <td>voucher</td>\n",
       "      <td>1.0</td>\n",
       "      <td>18.59</td>\n",
       "    </tr>\n",
       "  </tbody>\n",
       "</table>\n",
       "<p>3 rows × 22 columns</p>\n",
       "</div>"
      ],
      "text/plain": [
       "                           order_id                       customer_id  \\\n",
       "0  e481f51cbdc54678b7cc49136f2d6af7  9ef432eb6251297304e76186b10a928d   \n",
       "1  e481f51cbdc54678b7cc49136f2d6af7  9ef432eb6251297304e76186b10a928d   \n",
       "2  e481f51cbdc54678b7cc49136f2d6af7  9ef432eb6251297304e76186b10a928d   \n",
       "\n",
       "  order_status order_purchase_timestamp    order_approved_at  \\\n",
       "0    delivered      2017-10-02 10:56:33  2017-10-02 11:07:15   \n",
       "1    delivered      2017-10-02 10:56:33  2017-10-02 11:07:15   \n",
       "2    delivered      2017-10-02 10:56:33  2017-10-02 11:07:15   \n",
       "\n",
       "  order_delivered_carrier_date order_delivered_customer_date  \\\n",
       "0          2017-10-04 19:55:00           2017-10-10 21:25:13   \n",
       "1          2017-10-04 19:55:00           2017-10-10 21:25:13   \n",
       "2          2017-10-04 19:55:00           2017-10-10 21:25:13   \n",
       "\n",
       "  order_estimated_delivery_date                customer_unique_id  \\\n",
       "0           2017-10-18 00:00:00  7c396fd4830fd04220f754e42b4e5bff   \n",
       "1           2017-10-18 00:00:00  7c396fd4830fd04220f754e42b4e5bff   \n",
       "2           2017-10-18 00:00:00  7c396fd4830fd04220f754e42b4e5bff   \n",
       "\n",
       "   customer_zip_code_prefix  ...                         review_id  \\\n",
       "0                      3149  ...  a54f0611adc9ed256b57ede6b6eb5114   \n",
       "1                      3149  ...  a54f0611adc9ed256b57ede6b6eb5114   \n",
       "2                      3149  ...  a54f0611adc9ed256b57ede6b6eb5114   \n",
       "\n",
       "  review_score review_comment_title  \\\n",
       "0          4.0                  NaN   \n",
       "1          4.0                  NaN   \n",
       "2          4.0                  NaN   \n",
       "\n",
       "                              review_comment_message review_creation_date  \\\n",
       "0  Não testei o produto ainda, mas ele veio corre...  2017-10-11 00:00:00   \n",
       "1  Não testei o produto ainda, mas ele veio corre...  2017-10-11 00:00:00   \n",
       "2  Não testei o produto ainda, mas ele veio corre...  2017-10-11 00:00:00   \n",
       "\n",
       "  review_answer_timestamp payment_sequential payment_type  \\\n",
       "0     2017-10-12 03:43:48                1.0  credit_card   \n",
       "1     2017-10-12 03:43:48                3.0      voucher   \n",
       "2     2017-10-12 03:43:48                2.0      voucher   \n",
       "\n",
       "   payment_installments payment_value  \n",
       "0                   1.0         18.12  \n",
       "1                   1.0          2.00  \n",
       "2                   1.0         18.59  \n",
       "\n",
       "[3 rows x 22 columns]"
      ]
     },
     "execution_count": 35,
     "metadata": {},
     "output_type": "execute_result"
    }
   ],
   "source": [
    "order_customer_info = order_df.merge(customer_df, how='left', on=\"customer_id\")\n",
    "print(len(order_customer_info))\n",
    "#the guideline merge order_review, which will get duplicate order_id payment :(\n",
    "order_customer_review_info = order_customer_info.merge(order_review, how='left', on=\"order_id\")\n",
    "print(len(order_customer_review_info))\n",
    "all_order_info_1 = order_customer_review_info.merge(payment_df, how='left', on=\"order_id\")\n",
    "print(len(all_order_info_1))\n",
    "\n",
    "all_order_info_1.head(3)"
   ]
  },
  {
   "cell_type": "code",
   "execution_count": 36,
   "id": "28118f4a",
   "metadata": {
    "execution": {
     "iopub.execute_input": "2022-06-07T19:57:01.804508Z",
     "iopub.status.busy": "2022-06-07T19:57:01.803479Z",
     "iopub.status.idle": "2022-06-07T19:57:02.818551Z",
     "shell.execute_reply": "2022-06-07T19:57:02.817619Z"
    },
    "papermill": {
     "duration": 1.042171,
     "end_time": "2022-06-07T19:57:02.820831",
     "exception": false,
     "start_time": "2022-06-07T19:57:01.778660",
     "status": "completed"
    },
    "tags": []
   },
   "outputs": [
    {
     "data": {
      "text/html": [
       "<div>\n",
       "<style scoped>\n",
       "    .dataframe tbody tr th:only-of-type {\n",
       "        vertical-align: middle;\n",
       "    }\n",
       "\n",
       "    .dataframe tbody tr th {\n",
       "        vertical-align: top;\n",
       "    }\n",
       "\n",
       "    .dataframe thead th {\n",
       "        text-align: right;\n",
       "    }\n",
       "</style>\n",
       "<table border=\"1\" class=\"dataframe\">\n",
       "  <thead>\n",
       "    <tr style=\"text-align: right;\">\n",
       "      <th></th>\n",
       "      <th>order_purchase_timestamp_month</th>\n",
       "      <th>payment_value</th>\n",
       "      <th>order_id</th>\n",
       "    </tr>\n",
       "  </thead>\n",
       "  <tbody>\n",
       "    <tr>\n",
       "      <th>0</th>\n",
       "      <td>Apr 2017</td>\n",
       "      <td>418753.06</td>\n",
       "      <td>2404</td>\n",
       "    </tr>\n",
       "    <tr>\n",
       "      <th>1</th>\n",
       "      <td>Apr 2018</td>\n",
       "      <td>1163314.66</td>\n",
       "      <td>6939</td>\n",
       "    </tr>\n",
       "    <tr>\n",
       "      <th>2</th>\n",
       "      <td>Aug 2017</td>\n",
       "      <td>680105.55</td>\n",
       "      <td>4331</td>\n",
       "    </tr>\n",
       "  </tbody>\n",
       "</table>\n",
       "</div>"
      ],
      "text/plain": [
       "  order_purchase_timestamp_month  payment_value  order_id\n",
       "0                       Apr 2017      418753.06      2404\n",
       "1                       Apr 2018     1163314.66      6939\n",
       "2                       Aug 2017      680105.55      4331"
      ]
     },
     "execution_count": 36,
     "metadata": {},
     "output_type": "execute_result"
    }
   ],
   "source": [
    "# (rather than having all the trailing hours + minutes)\n",
    "all_order_info_1['order_purchase_timestamp_day'] = pd.to_datetime(all_order_info_1['order_purchase_timestamp'],\\\n",
    "                                                                format='%Y-%m-%d %H:%M:%S')\n",
    "all_order_info_1['order_purchase_timestamp_month'] = all_order_info_1['order_purchase_timestamp_day'].dt.strftime('%b %Y')\n",
    "\n",
    "# strip dataframe to contain just order month and payment value (e.g. only fields we want to aggregate)\n",
    "revenue = all_order_info_1[['order_purchase_timestamp_month', 'payment_value', 'order_id']]\n",
    "\n",
    "# now we're going to aggregate payment_value and order_id by the month to get the montly revenue and \n",
    "# monthly number of orders\n",
    "revenue =  revenue.groupby('order_purchase_timestamp_month').\\\n",
    "    agg({'payment_value':'sum', 'order_id': pd.Series.nunique}).reset_index()\n",
    "\n",
    "revenue.head(3)"
   ]
  },
  {
   "cell_type": "code",
   "execution_count": null,
   "id": "ec7f0b55",
   "metadata": {
    "papermill": {
     "duration": 0.044563,
     "end_time": "2022-06-07T19:57:02.889401",
     "exception": false,
     "start_time": "2022-06-07T19:57:02.844838",
     "status": "completed"
    },
    "tags": []
   },
   "outputs": [],
   "source": []
  }
 ],
 "metadata": {
  "kernelspec": {
   "display_name": "Python 3",
   "language": "python",
   "name": "python3"
  },
  "language_info": {
   "codemirror_mode": {
    "name": "ipython",
    "version": 3
   },
   "file_extension": ".py",
   "mimetype": "text/x-python",
   "name": "python",
   "nbconvert_exporter": "python",
   "pygments_lexer": "ipython3",
   "version": "3.7.12"
  },
  "papermill": {
   "default_parameters": {},
   "duration": 268.307619,
   "end_time": "2022-06-07T19:57:05.535359",
   "environment_variables": {},
   "exception": null,
   "input_path": "__notebook__.ipynb",
   "output_path": "__notebook__.ipynb",
   "parameters": {},
   "start_time": "2022-06-07T19:52:37.227740",
   "version": "2.3.4"
  }
 },
 "nbformat": 4,
 "nbformat_minor": 5
}
